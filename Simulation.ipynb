{
 "cells": [
  {
   "cell_type": "markdown",
   "metadata": {},
   "source": [
    "# ZINB Distribution"
   ]
  },
  {
   "cell_type": "code",
   "execution_count": 397,
   "metadata": {},
   "outputs": [],
   "source": [
    "library(pscl)\n",
    "library(lmtest)\n",
    "library(ggplot2)"
   ]
  },
  {
   "cell_type": "markdown",
   "metadata": {},
   "source": [
    "## Generate Simulated SNV and Genes"
   ]
  },
  {
   "cell_type": "code",
   "execution_count": 506,
   "metadata": {},
   "outputs": [],
   "source": [
    "SNV.simulated <- function(sample.size, zero.rate, gene.mu, is.snv=TRUE){\n",
    "    if(is.snv){\n",
    "        # Gene\n",
    "        zero.size <- ceiling(sample.size * zero.rate)\n",
    "        nonzero.size <- sample.size - zero.size\n",
    "        gene.zero <- rep(0, zero.size)\n",
    "        gene.nonzero <- rpois(nonzero.size, gene.mu)\n",
    "    \n",
    "        #SNV\n",
    "        snv.zero <- rep(0,zero.size)\n",
    "        error.rate <- 1/gene.nonzero\n",
    "        error <- (runif(nonzero.size) < error.rate)\n",
    "        snv.nonzero <- as.integer(!error)\n",
    "        snv <- c(snv.zero, snv.nonzero)\n",
    "    }\n",
    "    else{\n",
    "        snv <- rep(0,sample.size)\n",
    "    }   \n",
    "    return(snv)\n",
    "}"
   ]
  },
  {
   "cell_type": "code",
   "execution_count": 511,
   "metadata": {},
   "outputs": [],
   "source": [
    "gene.simulated <- function(sample.size,zero.rate, gene.mu){\n",
    "    zero.size <- ceiling(sample.size * zero.rate)\n",
    "    nonzero.size <- sample.size - zero.size\n",
    "    gene.zero <- rep(0, zero.size)\n",
    "    gene.nonzero <- rpois(nonzero.size, gene.mu)\n",
    "    gene <- c(gene.zero,gene.nonzero)\n",
    "    return(gene)\n",
    "}"
   ]
  },
  {
   "cell_type": "code",
   "execution_count": 537,
   "metadata": {},
   "outputs": [],
   "source": [
    "sample.size.1 <- 50\n",
    "sample.size.2 <- 50\n",
    "zero.rate <- 0.9\n",
    "snv.1 <- sample(SNV.simulated(sample.size.1,zero.rate,gene.mu = 10))\n",
    "snv.2 <- sample(SNV.simulated(sample.size.2,zero.rate,gene.mu = 10,is.snv = FALSE))\n",
    "gene.1 <- sample(gene.simulated(sample.size.1,zero.rate,gene.mu = 10))\n",
    "gene.2 <- sample(gene.simulated(sample.size.2,zero.rate,gene.mu = 20))\n",
    "snv <- c(snv.1,snv.2)\n",
    "gene <- c(gene.1,gene.2)\n",
    "df <- data.frame(gene,snv)"
   ]
  },
  {
   "cell_type": "code",
   "execution_count": 538,
   "metadata": {},
   "outputs": [
    {
     "data": {
      "text/html": [
       "<table>\n",
       "<caption>A anova: 2 × 4</caption>\n",
       "<thead>\n",
       "\t<tr><th></th><th scope=col>Res.Df</th><th scope=col>Df</th><th scope=col>Chisq</th><th scope=col>Pr(&gt;Chisq)</th></tr>\n",
       "\t<tr><th></th><th scope=col>&lt;dbl&gt;</th><th scope=col>&lt;dbl&gt;</th><th scope=col>&lt;dbl&gt;</th><th scope=col>&lt;dbl&gt;</th></tr>\n",
       "</thead>\n",
       "<tbody>\n",
       "\t<tr><th scope=row>1</th><td>96</td><td>NA</td><td>       NA</td><td>       NA</td></tr>\n",
       "\t<tr><th scope=row>2</th><td>95</td><td> 1</td><td>0.9931879</td><td>0.3189645</td></tr>\n",
       "</tbody>\n",
       "</table>\n"
      ],
      "text/latex": [
       "A anova: 2 × 4\n",
       "\\begin{tabular}{r|llll}\n",
       "  & Res.Df & Df & Chisq & Pr(>Chisq)\\\\\n",
       "  & <dbl> & <dbl> & <dbl> & <dbl>\\\\\n",
       "\\hline\n",
       "\t1 & 96 & NA &        NA &        NA\\\\\n",
       "\t2 & 95 &  1 & 0.9931879 & 0.3189645\\\\\n",
       "\\end{tabular}\n"
      ],
      "text/markdown": [
       "\n",
       "A anova: 2 × 4\n",
       "\n",
       "| <!--/--> | Res.Df &lt;dbl&gt; | Df &lt;dbl&gt; | Chisq &lt;dbl&gt; | Pr(&gt;Chisq) &lt;dbl&gt; |\n",
       "|---|---|---|---|---|\n",
       "| 1 | 96 | NA |        NA |        NA |\n",
       "| 2 | 95 |  1 | 0.9931879 | 0.3189645 |\n",
       "\n"
      ],
      "text/plain": [
       "  Res.Df Df Chisq     Pr(>Chisq)\n",
       "1 96     NA        NA        NA \n",
       "2 95      1 0.9931879 0.3189645 "
      ]
     },
     "metadata": {},
     "output_type": "display_data"
    }
   ],
   "source": [
    "zinb.model <- zeroinfl(formula = gene ~ snv, data = df, dist = \"negbin\")\n",
    "m0 <- zeroinfl(formula = gene ~ 1|snv , data = df, dist = \"negbin\")\n",
    "waldtest(m0,zinb.model)"
   ]
  },
  {
   "cell_type": "code",
   "execution_count": 392,
   "metadata": {},
   "outputs": [],
   "source": [
    "test.del = read.table('./one_gene_one_snv.csv',header = TRUE,sep = ',',row.names = 1)"
   ]
  },
  {
   "cell_type": "code",
   "execution_count": 407,
   "metadata": {},
   "outputs": [],
   "source": [
    "test.del$snv = factor(test.del$snv)"
   ]
  },
  {
   "cell_type": "code",
   "execution_count": 408,
   "metadata": {},
   "outputs": [
    {
     "data": {
      "text/html": [
       "<table>\n",
       "<caption>A data.frame: 121 × 2</caption>\n",
       "<thead>\n",
       "\t<tr><th></th><th scope=col>gene</th><th scope=col>snv</th></tr>\n",
       "\t<tr><th></th><th scope=col>&lt;int&gt;</th><th scope=col>&lt;fct&gt;</th></tr>\n",
       "</thead>\n",
       "<tbody>\n",
       "\t<tr><th scope=row>SRR2431428</th><td>154</td><td>1</td></tr>\n",
       "\t<tr><th scope=row>SRR2431433</th><td> 14</td><td>1</td></tr>\n",
       "\t<tr><th scope=row>SRR2431427</th><td>  6</td><td>1</td></tr>\n",
       "\t<tr><th scope=row>SRR2431374</th><td> 14</td><td>1</td></tr>\n",
       "\t<tr><th scope=row>SRR2431386</th><td>  0</td><td>1</td></tr>\n",
       "\t<tr><th scope=row>SRR2431424</th><td>  0</td><td>0</td></tr>\n",
       "\t<tr><th scope=row>SRR2431391</th><td> 39</td><td>1</td></tr>\n",
       "\t<tr><th scope=row>SRR2431369</th><td>  0</td><td>0</td></tr>\n",
       "\t<tr><th scope=row>SRR2431436</th><td>362</td><td>1</td></tr>\n",
       "\t<tr><th scope=row>SRR2431417</th><td>  1</td><td>1</td></tr>\n",
       "\t<tr><th scope=row>SRR2431458</th><td>  2</td><td>1</td></tr>\n",
       "\t<tr><th scope=row>SRR2431390</th><td> 51</td><td>1</td></tr>\n",
       "\t<tr><th scope=row>SRR2431400</th><td> 12</td><td>0</td></tr>\n",
       "\t<tr><th scope=row>SRR2431452</th><td>  0</td><td>1</td></tr>\n",
       "\t<tr><th scope=row>SRR2431435</th><td> 66</td><td>1</td></tr>\n",
       "\t<tr><th scope=row>SRR2431379</th><td>  0</td><td>1</td></tr>\n",
       "\t<tr><th scope=row>SRR2431413</th><td>  9</td><td>1</td></tr>\n",
       "\t<tr><th scope=row>SRR2431376</th><td>  8</td><td>0</td></tr>\n",
       "\t<tr><th scope=row>SRR2431449</th><td>  0</td><td>1</td></tr>\n",
       "\t<tr><th scope=row>SRR2431411</th><td>  0</td><td>0</td></tr>\n",
       "\t<tr><th scope=row>SRR2431384</th><td> 35</td><td>1</td></tr>\n",
       "\t<tr><th scope=row>SRR2431405</th><td>  5</td><td>0</td></tr>\n",
       "\t<tr><th scope=row>SRR2431396</th><td>  0</td><td>0</td></tr>\n",
       "\t<tr><th scope=row>SRR2431457</th><td> 12</td><td>1</td></tr>\n",
       "\t<tr><th scope=row>SRR2431387</th><td>  0</td><td>1</td></tr>\n",
       "\t<tr><th scope=row>SRR2431364</th><td> 18</td><td>1</td></tr>\n",
       "\t<tr><th scope=row>SRR2431402</th><td>170</td><td>0</td></tr>\n",
       "\t<tr><th scope=row>SRR2431446</th><td> 34</td><td>1</td></tr>\n",
       "\t<tr><th scope=row>SRR2431345</th><td> 23</td><td>0</td></tr>\n",
       "\t<tr><th scope=row>SRR2431382</th><td> 12</td><td>1</td></tr>\n",
       "\t<tr><th scope=row>⋮</th><td>⋮</td><td>⋮</td></tr>\n",
       "\t<tr><th scope=row>SRR2431451</th><td> 29</td><td>1</td></tr>\n",
       "\t<tr><th scope=row>SRR2431354</th><td>  2</td><td>0</td></tr>\n",
       "\t<tr><th scope=row>SRR2431363</th><td>  0</td><td>0</td></tr>\n",
       "\t<tr><th scope=row>SRR2431461</th><td>  1</td><td>0</td></tr>\n",
       "\t<tr><th scope=row>SRR2431371</th><td> 18</td><td>0</td></tr>\n",
       "\t<tr><th scope=row>SRR2431444</th><td>872</td><td>1</td></tr>\n",
       "\t<tr><th scope=row>SRR2431365</th><td> 14</td><td>1</td></tr>\n",
       "\t<tr><th scope=row>SRR2431412</th><td>  9</td><td>1</td></tr>\n",
       "\t<tr><th scope=row>SRR2431367</th><td>  0</td><td>0</td></tr>\n",
       "\t<tr><th scope=row>SRR2431388</th><td> 19</td><td>1</td></tr>\n",
       "\t<tr><th scope=row>SRR2431423</th><td>  4</td><td>1</td></tr>\n",
       "\t<tr><th scope=row>SRR2431349</th><td>  1</td><td>1</td></tr>\n",
       "\t<tr><th scope=row>SRR2431463</th><td>  2</td><td>1</td></tr>\n",
       "\t<tr><th scope=row>SRR2431403</th><td>129</td><td>0</td></tr>\n",
       "\t<tr><th scope=row>SRR2431440</th><td>  1</td><td>1</td></tr>\n",
       "\t<tr><th scope=row>SRR2431406</th><td>  5</td><td>1</td></tr>\n",
       "\t<tr><th scope=row>SRR2431410</th><td> 27</td><td>1</td></tr>\n",
       "\t<tr><th scope=row>SRR2431421</th><td>  0</td><td>1</td></tr>\n",
       "\t<tr><th scope=row>SRR2431462</th><td>  5</td><td>0</td></tr>\n",
       "\t<tr><th scope=row>SRR2431459</th><td>  0</td><td>1</td></tr>\n",
       "\t<tr><th scope=row>SRR2431380</th><td> 63</td><td>1</td></tr>\n",
       "\t<tr><th scope=row>SRR2431450</th><td> 55</td><td>1</td></tr>\n",
       "\t<tr><th scope=row>SRR2431395</th><td>  0</td><td>1</td></tr>\n",
       "\t<tr><th scope=row>SRR2431398</th><td> 92</td><td>1</td></tr>\n",
       "\t<tr><th scope=row>SRR2431351</th><td>  0</td><td>1</td></tr>\n",
       "\t<tr><th scope=row>SRR2431359</th><td>  4</td><td>1</td></tr>\n",
       "\t<tr><th scope=row>SRR2431415</th><td> 17</td><td>1</td></tr>\n",
       "\t<tr><th scope=row>SRR2431375</th><td>  3</td><td>1</td></tr>\n",
       "\t<tr><th scope=row>SRR2431361</th><td>  1</td><td>1</td></tr>\n",
       "\t<tr><th scope=row>SRR2431420</th><td> 35</td><td>1</td></tr>\n",
       "</tbody>\n",
       "</table>\n"
      ],
      "text/latex": [
       "A data.frame: 121 × 2\n",
       "\\begin{tabular}{r|ll}\n",
       "  & gene & snv\\\\\n",
       "  & <int> & <fct>\\\\\n",
       "\\hline\n",
       "\tSRR2431428 & 154 & 1\\\\\n",
       "\tSRR2431433 &  14 & 1\\\\\n",
       "\tSRR2431427 &   6 & 1\\\\\n",
       "\tSRR2431374 &  14 & 1\\\\\n",
       "\tSRR2431386 &   0 & 1\\\\\n",
       "\tSRR2431424 &   0 & 0\\\\\n",
       "\tSRR2431391 &  39 & 1\\\\\n",
       "\tSRR2431369 &   0 & 0\\\\\n",
       "\tSRR2431436 & 362 & 1\\\\\n",
       "\tSRR2431417 &   1 & 1\\\\\n",
       "\tSRR2431458 &   2 & 1\\\\\n",
       "\tSRR2431390 &  51 & 1\\\\\n",
       "\tSRR2431400 &  12 & 0\\\\\n",
       "\tSRR2431452 &   0 & 1\\\\\n",
       "\tSRR2431435 &  66 & 1\\\\\n",
       "\tSRR2431379 &   0 & 1\\\\\n",
       "\tSRR2431413 &   9 & 1\\\\\n",
       "\tSRR2431376 &   8 & 0\\\\\n",
       "\tSRR2431449 &   0 & 1\\\\\n",
       "\tSRR2431411 &   0 & 0\\\\\n",
       "\tSRR2431384 &  35 & 1\\\\\n",
       "\tSRR2431405 &   5 & 0\\\\\n",
       "\tSRR2431396 &   0 & 0\\\\\n",
       "\tSRR2431457 &  12 & 1\\\\\n",
       "\tSRR2431387 &   0 & 1\\\\\n",
       "\tSRR2431364 &  18 & 1\\\\\n",
       "\tSRR2431402 & 170 & 0\\\\\n",
       "\tSRR2431446 &  34 & 1\\\\\n",
       "\tSRR2431345 &  23 & 0\\\\\n",
       "\tSRR2431382 &  12 & 1\\\\\n",
       "\t⋮ & ⋮ & ⋮\\\\\n",
       "\tSRR2431451 &  29 & 1\\\\\n",
       "\tSRR2431354 &   2 & 0\\\\\n",
       "\tSRR2431363 &   0 & 0\\\\\n",
       "\tSRR2431461 &   1 & 0\\\\\n",
       "\tSRR2431371 &  18 & 0\\\\\n",
       "\tSRR2431444 & 872 & 1\\\\\n",
       "\tSRR2431365 &  14 & 1\\\\\n",
       "\tSRR2431412 &   9 & 1\\\\\n",
       "\tSRR2431367 &   0 & 0\\\\\n",
       "\tSRR2431388 &  19 & 1\\\\\n",
       "\tSRR2431423 &   4 & 1\\\\\n",
       "\tSRR2431349 &   1 & 1\\\\\n",
       "\tSRR2431463 &   2 & 1\\\\\n",
       "\tSRR2431403 & 129 & 0\\\\\n",
       "\tSRR2431440 &   1 & 1\\\\\n",
       "\tSRR2431406 &   5 & 1\\\\\n",
       "\tSRR2431410 &  27 & 1\\\\\n",
       "\tSRR2431421 &   0 & 1\\\\\n",
       "\tSRR2431462 &   5 & 0\\\\\n",
       "\tSRR2431459 &   0 & 1\\\\\n",
       "\tSRR2431380 &  63 & 1\\\\\n",
       "\tSRR2431450 &  55 & 1\\\\\n",
       "\tSRR2431395 &   0 & 1\\\\\n",
       "\tSRR2431398 &  92 & 1\\\\\n",
       "\tSRR2431351 &   0 & 1\\\\\n",
       "\tSRR2431359 &   4 & 1\\\\\n",
       "\tSRR2431415 &  17 & 1\\\\\n",
       "\tSRR2431375 &   3 & 1\\\\\n",
       "\tSRR2431361 &   1 & 1\\\\\n",
       "\tSRR2431420 &  35 & 1\\\\\n",
       "\\end{tabular}\n"
      ],
      "text/markdown": [
       "\n",
       "A data.frame: 121 × 2\n",
       "\n",
       "| <!--/--> | gene &lt;int&gt; | snv &lt;fct&gt; |\n",
       "|---|---|---|\n",
       "| SRR2431428 | 154 | 1 |\n",
       "| SRR2431433 |  14 | 1 |\n",
       "| SRR2431427 |   6 | 1 |\n",
       "| SRR2431374 |  14 | 1 |\n",
       "| SRR2431386 |   0 | 1 |\n",
       "| SRR2431424 |   0 | 0 |\n",
       "| SRR2431391 |  39 | 1 |\n",
       "| SRR2431369 |   0 | 0 |\n",
       "| SRR2431436 | 362 | 1 |\n",
       "| SRR2431417 |   1 | 1 |\n",
       "| SRR2431458 |   2 | 1 |\n",
       "| SRR2431390 |  51 | 1 |\n",
       "| SRR2431400 |  12 | 0 |\n",
       "| SRR2431452 |   0 | 1 |\n",
       "| SRR2431435 |  66 | 1 |\n",
       "| SRR2431379 |   0 | 1 |\n",
       "| SRR2431413 |   9 | 1 |\n",
       "| SRR2431376 |   8 | 0 |\n",
       "| SRR2431449 |   0 | 1 |\n",
       "| SRR2431411 |   0 | 0 |\n",
       "| SRR2431384 |  35 | 1 |\n",
       "| SRR2431405 |   5 | 0 |\n",
       "| SRR2431396 |   0 | 0 |\n",
       "| SRR2431457 |  12 | 1 |\n",
       "| SRR2431387 |   0 | 1 |\n",
       "| SRR2431364 |  18 | 1 |\n",
       "| SRR2431402 | 170 | 0 |\n",
       "| SRR2431446 |  34 | 1 |\n",
       "| SRR2431345 |  23 | 0 |\n",
       "| SRR2431382 |  12 | 1 |\n",
       "| ⋮ | ⋮ | ⋮ |\n",
       "| SRR2431451 |  29 | 1 |\n",
       "| SRR2431354 |   2 | 0 |\n",
       "| SRR2431363 |   0 | 0 |\n",
       "| SRR2431461 |   1 | 0 |\n",
       "| SRR2431371 |  18 | 0 |\n",
       "| SRR2431444 | 872 | 1 |\n",
       "| SRR2431365 |  14 | 1 |\n",
       "| SRR2431412 |   9 | 1 |\n",
       "| SRR2431367 |   0 | 0 |\n",
       "| SRR2431388 |  19 | 1 |\n",
       "| SRR2431423 |   4 | 1 |\n",
       "| SRR2431349 |   1 | 1 |\n",
       "| SRR2431463 |   2 | 1 |\n",
       "| SRR2431403 | 129 | 0 |\n",
       "| SRR2431440 |   1 | 1 |\n",
       "| SRR2431406 |   5 | 1 |\n",
       "| SRR2431410 |  27 | 1 |\n",
       "| SRR2431421 |   0 | 1 |\n",
       "| SRR2431462 |   5 | 0 |\n",
       "| SRR2431459 |   0 | 1 |\n",
       "| SRR2431380 |  63 | 1 |\n",
       "| SRR2431450 |  55 | 1 |\n",
       "| SRR2431395 |   0 | 1 |\n",
       "| SRR2431398 |  92 | 1 |\n",
       "| SRR2431351 |   0 | 1 |\n",
       "| SRR2431359 |   4 | 1 |\n",
       "| SRR2431415 |  17 | 1 |\n",
       "| SRR2431375 |   3 | 1 |\n",
       "| SRR2431361 |   1 | 1 |\n",
       "| SRR2431420 |  35 | 1 |\n",
       "\n"
      ],
      "text/plain": [
       "           gene snv\n",
       "SRR2431428 154  1  \n",
       "SRR2431433  14  1  \n",
       "SRR2431427   6  1  \n",
       "SRR2431374  14  1  \n",
       "SRR2431386   0  1  \n",
       "SRR2431424   0  0  \n",
       "SRR2431391  39  1  \n",
       "SRR2431369   0  0  \n",
       "SRR2431436 362  1  \n",
       "SRR2431417   1  1  \n",
       "SRR2431458   2  1  \n",
       "SRR2431390  51  1  \n",
       "SRR2431400  12  0  \n",
       "SRR2431452   0  1  \n",
       "SRR2431435  66  1  \n",
       "SRR2431379   0  1  \n",
       "SRR2431413   9  1  \n",
       "SRR2431376   8  0  \n",
       "SRR2431449   0  1  \n",
       "SRR2431411   0  0  \n",
       "SRR2431384  35  1  \n",
       "SRR2431405   5  0  \n",
       "SRR2431396   0  0  \n",
       "SRR2431457  12  1  \n",
       "SRR2431387   0  1  \n",
       "SRR2431364  18  1  \n",
       "SRR2431402 170  0  \n",
       "SRR2431446  34  1  \n",
       "SRR2431345  23  0  \n",
       "SRR2431382  12  1  \n",
       "⋮          ⋮    ⋮  \n",
       "SRR2431451  29  1  \n",
       "SRR2431354   2  0  \n",
       "SRR2431363   0  0  \n",
       "SRR2431461   1  0  \n",
       "SRR2431371  18  0  \n",
       "SRR2431444 872  1  \n",
       "SRR2431365  14  1  \n",
       "SRR2431412   9  1  \n",
       "SRR2431367   0  0  \n",
       "SRR2431388  19  1  \n",
       "SRR2431423   4  1  \n",
       "SRR2431349   1  1  \n",
       "SRR2431463   2  1  \n",
       "SRR2431403 129  0  \n",
       "SRR2431440   1  1  \n",
       "SRR2431406   5  1  \n",
       "SRR2431410  27  1  \n",
       "SRR2431421   0  1  \n",
       "SRR2431462   5  0  \n",
       "SRR2431459   0  1  \n",
       "SRR2431380  63  1  \n",
       "SRR2431450  55  1  \n",
       "SRR2431395   0  1  \n",
       "SRR2431398  92  1  \n",
       "SRR2431351   0  1  \n",
       "SRR2431359   4  1  \n",
       "SRR2431415  17  1  \n",
       "SRR2431375   3  1  \n",
       "SRR2431361   1  1  \n",
       "SRR2431420  35  1  "
      ]
     },
     "metadata": {},
     "output_type": "display_data"
    }
   ],
   "source": [
    "test.del"
   ]
  },
  {
   "cell_type": "code",
   "execution_count": 501,
   "metadata": {},
   "outputs": [
    {
     "data": {
      "image/png": "[encoded data removed]",
      "text/plain": [
       "plot without title"
      ]
     },
     "metadata": {
      "image/png": {
       "height": 420,
       "width": 420
      },
      "text/plain": {
       "height": 420,
       "width": 420
      }
     },
     "output_type": "display_data"
    }
   ],
   "source": [
    "ggplot(data = test.del) + geom_bar(aes(x=gene,fill=snv),position = 'dodge')"
   ]
  },
  {
   "cell_type": "code",
   "execution_count": 505,
   "metadata": {},
   "outputs": [
    {
     "data": {
      "text/html": [
       "<table>\n",
       "<caption>A anova: 2 × 4</caption>\n",
       "<thead>\n",
       "\t<tr><th></th><th scope=col>Res.Df</th><th scope=col>Df</th><th scope=col>Chisq</th><th scope=col>Pr(&gt;Chisq)</th></tr>\n",
       "\t<tr><th></th><th scope=col>&lt;dbl&gt;</th><th scope=col>&lt;dbl&gt;</th><th scope=col>&lt;dbl&gt;</th><th scope=col>&lt;dbl&gt;</th></tr>\n",
       "</thead>\n",
       "<tbody>\n",
       "\t<tr><th scope=row>1</th><td>117</td><td>NA</td><td>       NA</td><td>       NA</td></tr>\n",
       "\t<tr><th scope=row>2</th><td>116</td><td> 1</td><td>0.1400784</td><td>0.7082031</td></tr>\n",
       "</tbody>\n",
       "</table>\n"
      ],
      "text/latex": [
       "A anova: 2 × 4\n",
       "\\begin{tabular}{r|llll}\n",
       "  & Res.Df & Df & Chisq & Pr(>Chisq)\\\\\n",
       "  & <dbl> & <dbl> & <dbl> & <dbl>\\\\\n",
       "\\hline\n",
       "\t1 & 117 & NA &        NA &        NA\\\\\n",
       "\t2 & 116 &  1 & 0.1400784 & 0.7082031\\\\\n",
       "\\end{tabular}\n"
      ],
      "text/markdown": [
       "\n",
       "A anova: 2 × 4\n",
       "\n",
       "| <!--/--> | Res.Df &lt;dbl&gt; | Df &lt;dbl&gt; | Chisq &lt;dbl&gt; | Pr(&gt;Chisq) &lt;dbl&gt; |\n",
       "|---|---|---|---|---|\n",
       "| 1 | 117 | NA |        NA |        NA |\n",
       "| 2 | 116 |  1 | 0.1400784 | 0.7082031 |\n",
       "\n"
      ],
      "text/plain": [
       "  Res.Df Df Chisq     Pr(>Chisq)\n",
       "1 117    NA        NA        NA \n",
       "2 116     1 0.1400784 0.7082031 "
      ]
     },
     "metadata": {},
     "output_type": "display_data"
    }
   ],
   "source": [
    "zinb.model <- zeroinfl(formula = gene ~ snv, data = test.del, dist = \"negbin\")\n",
    "m0 <- zeroinfl(formula = gene ~ 1|snv , data = test.del, dist = \"negbin\")\n",
    "waldtest(m0,zinb.model)"
   ]
  },
  {
   "cell_type": "code",
   "execution_count": 417,
   "metadata": {},
   "outputs": [
    {
     "data": {
      "text/plain": [
       "\n",
       "Call:\n",
       "zeroinfl(formula = gene ~ snv, data = test.del, dist = \"negbin\")\n",
       "\n",
       "Pearson residuals:\n",
       "    Min      1Q  Median      3Q     Max \n",
       "-0.5442 -0.5087 -0.4328 -0.1106  9.7889 \n",
       "\n",
       "Count model coefficients (negbin with log link):\n",
       "            Estimate Std. Error z value Pr(>|z|)    \n",
       "(Intercept)   3.6637     0.3907   9.378   <2e-16 ***\n",
       "snv1          0.1634     0.4365   0.374    0.708    \n",
       "Log(theta)   -1.2103     0.1367  -8.855   <2e-16 ***\n",
       "\n",
       "Zero-inflation model coefficients (binomial with logit link):\n",
       "            Estimate Std. Error z value Pr(>|z|)  \n",
       "(Intercept)  -1.2337     0.7067  -1.746   0.0809 .\n",
       "snv1         -9.1480    50.7124  -0.180   0.8568  \n",
       "---\n",
       "Signif. codes:  0 '***' 0.001 '**' 0.01 '*' 0.05 '.' 0.1 ' ' 1 \n",
       "\n",
       "Theta = 0.2981 \n",
       "Number of iterations in BFGS optimization: 51 \n",
       "Log-likelihood: -491.3 on 5 Df"
      ]
     },
     "metadata": {},
     "output_type": "display_data"
    }
   ],
   "source": [
    "summary(zinb.model)"
   ]
  },
  {
   "cell_type": "code",
   "execution_count": 415,
   "metadata": {},
   "outputs": [
    {
     "data": {
      "text/html": [
       "<table>\n",
       "<caption>A anova: 2 × 4</caption>\n",
       "<thead>\n",
       "\t<tr><th></th><th scope=col>Res.Df</th><th scope=col>Df</th><th scope=col>Chisq</th><th scope=col>Pr(&gt;Chisq)</th></tr>\n",
       "\t<tr><th></th><th scope=col>&lt;dbl&gt;</th><th scope=col>&lt;dbl&gt;</th><th scope=col>&lt;dbl&gt;</th><th scope=col>&lt;dbl&gt;</th></tr>\n",
       "</thead>\n",
       "<tbody>\n",
       "\t<tr><th scope=row>1</th><td>117</td><td>NA</td><td>       NA</td><td>       NA</td></tr>\n",
       "\t<tr><th scope=row>2</th><td>116</td><td> 1</td><td>0.1400784</td><td>0.7082031</td></tr>\n",
       "</tbody>\n",
       "</table>\n"
      ],
      "text/latex": [
       "A anova: 2 × 4\n",
       "\\begin{tabular}{r|llll}\n",
       "  & Res.Df & Df & Chisq & Pr(>Chisq)\\\\\n",
       "  & <dbl> & <dbl> & <dbl> & <dbl>\\\\\n",
       "\\hline\n",
       "\t1 & 117 & NA &        NA &        NA\\\\\n",
       "\t2 & 116 &  1 & 0.1400784 & 0.7082031\\\\\n",
       "\\end{tabular}\n"
      ],
      "text/markdown": [
       "\n",
       "A anova: 2 × 4\n",
       "\n",
       "| <!--/--> | Res.Df &lt;dbl&gt; | Df &lt;dbl&gt; | Chisq &lt;dbl&gt; | Pr(&gt;Chisq) &lt;dbl&gt; |\n",
       "|---|---|---|---|---|\n",
       "| 1 | 117 | NA |        NA |        NA |\n",
       "| 2 | 116 |  1 | 0.1400784 | 0.7082031 |\n",
       "\n"
      ],
      "text/plain": [
       "  Res.Df Df Chisq     Pr(>Chisq)\n",
       "1 117    NA        NA        NA \n",
       "2 116     1 0.1400784 0.7082031 "
      ]
     },
     "metadata": {},
     "output_type": "display_data"
    }
   ],
   "source": [
    "waldtest(m0,zinb.model)"
   ]
  },
  {
   "cell_type": "code",
   "execution_count": 356,
   "metadata": {},
   "outputs": [
    {
     "data": {
      "text/html": [
       "<ol class=list-inline>\n",
       "\t<li>1</li>\n",
       "\t<li>1</li>\n",
       "\t<li>0</li>\n",
       "</ol>\n"
      ],
      "text/latex": [
       "\\begin{enumerate*}\n",
       "\\item 1\n",
       "\\item 1\n",
       "\\item 0\n",
       "\\end{enumerate*}\n"
      ],
      "text/markdown": [
       "1. 1\n",
       "2. 1\n",
       "3. 0\n",
       "\n",
       "\n"
      ],
      "text/plain": [
       "[1] 1 1 0"
      ]
     },
     "metadata": {},
     "output_type": "display_data"
    }
   ],
   "source": [
    "as.integer(!(1 / x  < 0.6))"
   ]
  },
  {
   "cell_type": "code",
   "execution_count": null,
   "metadata": {},
   "outputs": [],
   "source": []
  },
  {
   "cell_type": "code",
   "execution_count": null,
   "metadata": {},
   "outputs": [],
   "source": [
    "geneA.zero.p <- 0.8\n",
    "geneB.zero.p <- 0.6\n",
    "sample.size <- 100\n",
    "geneA.zero <- "
   ]
  },
  {
   "cell_type": "code",
   "execution_count": 502,
   "metadata": {},
   "outputs": [],
   "source": [
    "set.seed(123)\n",
    "zero.p.1 <- 0.5\n",
    "nonzero.p.1 <- 1 - zero.p.1\n",
    "sample.size.1 <- 30\n",
    "sample.zero.size.1 <- ceiling(sample.size.1 * zero.p.1)\n",
    "sample.nonzero.size.1 <- sample.size.1 - sample.zero.size.1\n",
    "data.nonzero.1 <- rpois(sample.nonzero.size.1, lambda = 30)\n",
    "data.zero.1 <-rep(0,sample.zero.size.1)\n",
    "data.1 <- c(data.nonzero.1, data.zero.1)\n",
    "f.1 <- rep(1,sample.size.1)\n",
    "\n",
    "zero.p.2 <- 0.5\n",
    "nonzero.p.2 <- 1 - zero.p.2\n",
    "sample.size.2 <- 30\n",
    "sample.zero.size.2 <- ceiling(sample.size.2 * zero.p.2)\n",
    "sample.nonzero.size.2 <- sample.size.2 - sample.zero.size.2\n",
    "data.nonzero.2 <- rpois(sample.nonzero.size.2, lambda = 100)\n",
    "data.zero.2 <-rep(0,sample.zero.size.2)\n",
    "data.2 <- c(data.nonzero.2, data.zero.2)\n",
    "f.2 <- rep(0,sample.size.2)\n",
    "\n",
    "data <- c(data.1, data.2)\n",
    "f <- c(f.1, f.2)"
   ]
  },
  {
   "cell_type": "code",
   "execution_count": 503,
   "metadata": {},
   "outputs": [],
   "source": [
    "df <- data.frame(data,f)"
   ]
  },
  {
   "cell_type": "code",
   "execution_count": 504,
   "metadata": {},
   "outputs": [
    {
     "data": {
      "text/html": [
       "<table>\n",
       "<caption>A anova: 2 × 4</caption>\n",
       "<thead>\n",
       "\t<tr><th></th><th scope=col>Res.Df</th><th scope=col>Df</th><th scope=col>Chisq</th><th scope=col>Pr(&gt;Chisq)</th></tr>\n",
       "\t<tr><th></th><th scope=col>&lt;dbl&gt;</th><th scope=col>&lt;dbl&gt;</th><th scope=col>&lt;dbl&gt;</th><th scope=col>&lt;dbl&gt;</th></tr>\n",
       "</thead>\n",
       "<tbody>\n",
       "\t<tr><th scope=row>1</th><td>56</td><td>NA</td><td>      NA</td><td>           NA</td></tr>\n",
       "\t<tr><th scope=row>2</th><td>55</td><td> 1</td><td>469.4416</td><td>4.239136e-104</td></tr>\n",
       "</tbody>\n",
       "</table>\n"
      ],
      "text/latex": [
       "A anova: 2 × 4\n",
       "\\begin{tabular}{r|llll}\n",
       "  & Res.Df & Df & Chisq & Pr(>Chisq)\\\\\n",
       "  & <dbl> & <dbl> & <dbl> & <dbl>\\\\\n",
       "\\hline\n",
       "\t1 & 56 & NA &       NA &            NA\\\\\n",
       "\t2 & 55 &  1 & 469.4416 & 4.239136e-104\\\\\n",
       "\\end{tabular}\n"
      ],
      "text/markdown": [
       "\n",
       "A anova: 2 × 4\n",
       "\n",
       "| <!--/--> | Res.Df &lt;dbl&gt; | Df &lt;dbl&gt; | Chisq &lt;dbl&gt; | Pr(&gt;Chisq) &lt;dbl&gt; |\n",
       "|---|---|---|---|---|\n",
       "| 1 | 56 | NA |       NA |            NA |\n",
       "| 2 | 55 |  1 | 469.4416 | 4.239136e-104 |\n",
       "\n"
      ],
      "text/plain": [
       "  Res.Df Df Chisq    Pr(>Chisq)   \n",
       "1 56     NA       NA            NA\n",
       "2 55      1 469.4416 4.239136e-104"
      ]
     },
     "metadata": {},
     "output_type": "display_data"
    }
   ],
   "source": [
    "zinb.model <- zeroinfl(formula = data ~ f, data = df, dist = \"negbin\")\n",
    "m0 <- zeroinfl(formula = data ~ 1|f , data = df, dist = \"negbin\")\n",
    "waldtest(m0,zinb.model)"
   ]
  },
  {
   "cell_type": "code",
   "execution_count": 450,
   "metadata": {},
   "outputs": [
    {
     "data": {
      "text/plain": [
       "\n",
       "Call:\n",
       "zeroinfl(formula = data ~ 1 | f, data = df, dist = \"negbin\")\n",
       "\n",
       "Pearson residuals:\n",
       "    Min      1Q  Median      3Q     Max \n",
       "-2.1132 -0.3160 -0.3160  0.2692  5.1338 \n",
       "\n",
       "Count model coefficients (negbin with log link):\n",
       "            Estimate Std. Error z value Pr(>|z|)    \n",
       "(Intercept)  2.28803    0.01426   160.5   <2e-16 ***\n",
       "Log(theta)   9.31313    9.31375     1.0    0.317    \n",
       "\n",
       "Zero-inflation model coefficients (binomial with logit link):\n",
       "            Estimate Std. Error z value Pr(>|z|)    \n",
       "(Intercept)  -2.1973     0.1491  -14.74   <2e-16 ***\n",
       "f             4.3943     0.2108   20.84   <2e-16 ***\n",
       "---\n",
       "Signif. codes:  0 '***' 0.001 '**' 0.01 '*' 0.05 '.' 0.1 ' ' 1 \n",
       "\n",
       "Theta = 11082.5559 \n",
       "Number of iterations in BFGS optimization: 24 \n",
       "Log-likelihood: -1591 on 4 Df"
      ]
     },
     "metadata": {},
     "output_type": "display_data"
    }
   ],
   "source": [
    "summary(m0)"
   ]
  },
  {
   "cell_type": "code",
   "execution_count": 452,
   "metadata": {},
   "outputs": [
    {
     "data": {
      "text/html": [
       "-2.30236051565783"
      ],
      "text/latex": [
       "-2.30236051565783"
      ],
      "text/markdown": [
       "-2.30236051565783"
      ],
      "text/plain": [
       "[1] -2.302361"
      ]
     },
     "metadata": {},
     "output_type": "display_data"
    }
   ],
   "source": [
    "log(0.9) - (4.3943*1-2.1973 )"
   ]
  },
  {
   "cell_type": "code",
   "execution_count": 311,
   "metadata": {},
   "outputs": [
    {
     "data": {
      "text/html": [
       "0.200933413093906"
      ],
      "text/latex": [
       "0.200933413093906"
      ],
      "text/markdown": [
       "0.200933413093906"
      ],
      "text/plain": [
       "[1] 0.2009334"
      ]
     },
     "metadata": {},
     "output_type": "display_data"
    }
   ],
   "source": [
    "waldtest(m0,zinb.model)[2,'Pr(>Chisq)']"
   ]
  },
  {
   "cell_type": "code",
   "execution_count": null,
   "metadata": {},
   "outputs": [],
   "source": []
  },
  {
   "cell_type": "code",
   "execution_count": 229,
   "metadata": {},
   "outputs": [
    {
     "data": {
      "text/plain": [
       "\n",
       "Call:\n",
       "zeroinfl(formula = data ~ f, data = df, dist = \"negbin\")\n",
       "\n",
       "Count model coefficients (negbin with log link):\n",
       "(Intercept)            f  \n",
       "     0.8398      -0.1520  \n",
       "Theta = 38.561 \n",
       "\n",
       "Zero-inflation model coefficients (binomial with logit link):\n",
       "(Intercept)            f  \n",
       "     0.4217       0.3754  \n"
      ]
     },
     "metadata": {},
     "output_type": "display_data"
    }
   ],
   "source": [
    "zinb.model"
   ]
  },
  {
   "cell_type": "code",
   "execution_count": null,
   "metadata": {},
   "outputs": [],
   "source": [
    "df <- data.frame()"
   ]
  },
  {
   "cell_type": "code",
   "execution_count": 218,
   "metadata": {},
   "outputs": [],
   "source": [
    "?waldtest"
   ]
  },
  {
   "cell_type": "code",
   "execution_count": 167,
   "metadata": {},
   "outputs": [],
   "source": [
    "set.seed(5)\n",
    "N <- 500\n",
    "x1 <- rpois(N,2)\n",
    "x2 <- rpois(N,3)\n",
    "x3 <- c(x1,x2)\n",
    "y1 <- rep(1,N)\n",
    "y2 <- rep(3,N)\n",
    "y3 <- c(y1,y2)\n",
    "df <- data.frame(x3,y3)"
   ]
  },
  {
   "cell_type": "code",
   "execution_count": 168,
   "metadata": {},
   "outputs": [],
   "source": [
    "poisson.model <- glm(x3 ~ y3, df, family = poisson(link = \"log\"))"
   ]
  },
  {
   "cell_type": "code",
   "execution_count": 198,
   "metadata": {},
   "outputs": [
    {
     "data": {
      "text/plain": [
       "'log Lik.' 6.472545e-22 (df=5)"
      ]
     },
     "metadata": {},
     "output_type": "display_data"
    }
   ],
   "source": [
    "zinb.model <- zeroinfl(formula = x3 ~ y3, data = df, dist = \"negbin\")\n"
   ]
  },
  {
   "cell_type": "code",
   "execution_count": 170,
   "metadata": {},
   "outputs": [
    {
     "data": {
      "text/plain": [
       "\n",
       "Call:\n",
       "zeroinfl(formula = x3 ~ y3, data = df, dist = \"negbin\")\n",
       "\n",
       "Pearson residuals:\n",
       "     Min       1Q   Median       3Q      Max \n",
       "-1.72768 -0.70291 -0.01258  0.70578  2.84591 \n",
       "\n",
       "Count model coefficients (negbin with log link):\n",
       "            Estimate Std. Error z value Pr(>|z|)    \n",
       "(Intercept)  0.48980    0.05817   8.420   <2e-16 ***\n",
       "y3           0.20673    0.02345   8.817   <2e-16 ***\n",
       "Log(theta)  10.54331   26.62345   0.396    0.692    \n",
       "\n",
       "Zero-inflation model coefficients (binomial with logit link):\n",
       "            Estimate Std. Error z value Pr(>|z|)\n",
       "(Intercept) -5.38287    7.16117  -0.752    0.452\n",
       "y3          -0.03873    2.72354  -0.014    0.989\n",
       "---\n",
       "Signif. codes:  0 '***' 0.001 '**' 0.01 '*' 0.05 '.' 0.1 ' ' 1 \n",
       "\n",
       "Theta = 37922.7808 \n",
       "Number of iterations in BFGS optimization: 46 \n",
       "Log-likelihood: -1816 on 5 Df"
      ]
     },
     "metadata": {},
     "output_type": "display_data"
    }
   ],
   "source": [
    "summary(zinb.model)"
   ]
  },
  {
   "cell_type": "code",
   "execution_count": 171,
   "metadata": {},
   "outputs": [],
   "source": [
    "m0 <- update(zinb.model, . ~ 1)"
   ]
  },
  {
   "cell_type": "code",
   "execution_count": 172,
   "metadata": {},
   "outputs": [
    {
     "data": {
      "text/plain": [
       "\n",
       "Call:\n",
       "zeroinfl(formula = x3 ~ 1, data = df, dist = \"negbin\")\n",
       "\n",
       "Pearson residuals:\n",
       "    Min      1Q  Median      3Q     Max \n",
       "-1.5284 -0.9195 -0.3106  0.9073  3.3431 \n",
       "\n",
       "Count model coefficients (negbin with log link):\n",
       "            Estimate Std. Error z value Pr(>|z|)    \n",
       "(Intercept)  0.93408    0.02458  37.994  < 2e-16 ***\n",
       "Log(theta)   4.16372    1.55689   2.674  0.00749 ** \n",
       "\n",
       "Zero-inflation model coefficients (binomial with logit link):\n",
       "            Estimate Std. Error z value Pr(>|z|)    \n",
       "(Intercept)   -4.277      1.043    -4.1 4.12e-05 ***\n",
       "---\n",
       "Signif. codes:  0 '***' 0.001 '**' 0.01 '*' 0.05 '.' 0.1 ' ' 1 \n",
       "\n",
       "Theta = 64.3102 \n",
       "Number of iterations in BFGS optimization: 19 \n",
       "Log-likelihood: -1867 on 3 Df"
      ]
     },
     "metadata": {},
     "output_type": "display_data"
    }
   ],
   "source": [
    "summary(m0)"
   ]
  },
  {
   "cell_type": "code",
   "execution_count": 173,
   "metadata": {},
   "outputs": [
    {
     "data": {
      "text/plain": [
       "'log Lik.' 6.472545e-22 (df=5)"
      ]
     },
     "metadata": {},
     "output_type": "display_data"
    }
   ],
   "source": [
    "pchisq(2 * (logLik(zinb.model) - logLik(m0)), df = 3, lower.tail=FALSE)"
   ]
  },
  {
   "cell_type": "code",
   "execution_count": 121,
   "metadata": {},
   "outputs": [],
   "source": [
    "df.test <- data.frame(y3=c(1,3))"
   ]
  },
  {
   "cell_type": "code",
   "execution_count": 122,
   "metadata": {},
   "outputs": [
    {
     "data": {
      "text/html": [
       "<dl class=dl-horizontal>\n",
       "\t<dt>1</dt>\n",
       "\t\t<dd>1.99867400000006</dd>\n",
       "\t<dt>2</dt>\n",
       "\t\t<dd>4.99536000000001</dd>\n",
       "</dl>\n"
      ],
      "text/latex": [
       "\\begin{description*}\n",
       "\\item[1] 1.99867400000006\n",
       "\\item[2] 4.99536000000001\n",
       "\\end{description*}\n"
      ],
      "text/markdown": [
       "1\n",
       ":   1.998674000000062\n",
       ":   4.99536000000001\n",
       "\n"
      ],
      "text/plain": [
       "       1        2 \n",
       "1.998674 4.995360 "
      ]
     },
     "metadata": {},
     "output_type": "display_data"
    }
   ],
   "source": [
    "predict(poisson.model,df.test,type = \"response\")"
   ]
  },
  {
   "cell_type": "code",
   "execution_count": null,
   "metadata": {},
   "outputs": [],
   "source": []
  }
 ],
 "metadata": {
  "kernelspec": {
   "display_name": "R",
   "language": "R",
   "name": "ir"
  },
  "language_info": {
   "codemirror_mode": "r",
   "file_extension": ".r",
   "mimetype": "text/x-r-source",
   "name": "R",
   "pygments_lexer": "r",
   "version": "3.6.1"
  }
 },
 "nbformat": 4,
 "nbformat_minor": 4
}
