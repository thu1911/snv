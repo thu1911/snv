{
 "cells": [
  {
   "cell_type": "markdown",
   "metadata": {},
   "source": [
    "# ZINB Distribution"
   ]
  },
  {
   "cell_type": "code",
   "execution_count": 278,
   "metadata": {},
   "outputs": [],
   "source": [
    "library(pscl)\n",
    "library(lmtest)"
   ]
  },
  {
   "cell_type": "markdown",
   "metadata": {},
   "source": [
    "## Generate Simulated SNV and Genes"
   ]
  },
  {
   "cell_type": "code",
   "execution_count": 352,
   "metadata": {},
   "outputs": [],
   "source": [
    "SNV.simulated <- function(sample.size, zero.rate, gene.mu){\n",
    "    # Gene\n",
    "    zero.size <- ceiling(sample.size * zero.rate)\n",
    "    nonzero.size <- sample.size - zero.size\n",
    "    gene.zero <- rep(0, zero.size)\n",
    "    gene.nonzero <- rpois(nonzero.size, gene.mu)\n",
    "    \n",
    "    #SNV\n",
    "    snv.zero <- rep(0,zero.size)\n",
    "    error.rate <- 1/gene.nonzero\n",
    "    error <- (runif(nonzero.size) < error.rate)\n",
    "    snv.nonzero <- as.integer(!error)\n",
    "    snv <- c(snv.zero, snv.nonzero)\n",
    "    \n",
    "    return(snv)\n",
    "}"
   ]
  },
  {
   "cell_type": "code",
   "execution_count": 371,
   "metadata": {},
   "outputs": [
    {
     "data": {
      "text/html": [
       "33"
      ],
      "text/latex": [
       "33"
      ],
      "text/markdown": [
       "33"
      ],
      "text/plain": [
       "[1] 33"
      ]
     },
     "metadata": {},
     "output_type": "display_data"
    }
   ],
   "source": [
    "sum(SNV.simulated(100,0.3,20) == 0)"
   ]
  },
  {
   "cell_type": "code",
   "execution_count": 356,
   "metadata": {},
   "outputs": [
    {
     "data": {
      "text/html": [
       "<ol class=list-inline>\n",
       "\t<li>1</li>\n",
       "\t<li>1</li>\n",
       "\t<li>0</li>\n",
       "</ol>\n"
      ],
      "text/latex": [
       "\\begin{enumerate*}\n",
       "\\item 1\n",
       "\\item 1\n",
       "\\item 0\n",
       "\\end{enumerate*}\n"
      ],
      "text/markdown": [
       "1. 1\n",
       "2. 1\n",
       "3. 0\n",
       "\n",
       "\n"
      ],
      "text/plain": [
       "[1] 1 1 0"
      ]
     },
     "metadata": {},
     "output_type": "display_data"
    }
   ],
   "source": [
    "as.integer(!(1 / x  < 0.6))"
   ]
  },
  {
   "cell_type": "code",
   "execution_count": null,
   "metadata": {},
   "outputs": [],
   "source": [
    "geneA.zero.p <- 0.8\n",
    "geneB.zero.p <- 0.6\n",
    "sample.size <- 100\n",
    "geneA.zero <- "
   ]
  },
  {
   "cell_type": "code",
   "execution_count": 295,
   "metadata": {},
   "outputs": [],
   "source": [
    "set.seed(123)\n",
    "zero.p.1 <- 0.1\n",
    "nonzero.p.1 <- 1 - zero.p.1\n",
    "sample.size.1 <- 50\n",
    "sample.zero.size.1 <- ceiling(sample.size.1 * zero.p.1)\n",
    "sample.nonzero.size.1 <- sample.size.1 - sample.zero.size.1\n",
    "data.nonzero.1 <- rpois(sample.nonzero.size.1, lambda = 10)\n",
    "data.zero.1 <-rep(0,sample.zero.size.1)\n",
    "data.1 <- c(data.nonzero.1, data.zero.1)\n",
    "f.1 <- rep(1,sample.size.1)\n",
    "\n",
    "zero.p.2 <- 0.9\n",
    "nonzero.p.2 <- 1 - zero.p.2\n",
    "sample.size.2 <- 50\n",
    "sample.zero.size.2 <- ceiling(sample.size.2 * zero.p.2)\n",
    "sample.nonzero.size.2 <- sample.size.2 - sample.zero.size.2\n",
    "data.nonzero.2 <- rpois(sample.nonzero.size.2, lambda = 10)\n",
    "data.zero.2 <-rep(0,sample.zero.size.2)\n",
    "data.2 <- c(data.nonzero.2, data.zero.2)\n",
    "f.2 <- rep(2,sample.size.2)\n",
    "\n",
    "data <- c(data.1, data.2)\n",
    "f <- c(f.1, f.2)"
   ]
  },
  {
   "cell_type": "code",
   "execution_count": 296,
   "metadata": {},
   "outputs": [],
   "source": [
    "df <- data.frame(data,f)"
   ]
  },
  {
   "cell_type": "code",
   "execution_count": 297,
   "metadata": {},
   "outputs": [
    {
     "data": {
      "text/html": [
       "<table>\n",
       "<caption>A data.frame: 6 × 2</caption>\n",
       "<thead>\n",
       "\t<tr><th></th><th scope=col>data</th><th scope=col>f</th></tr>\n",
       "\t<tr><th></th><th scope=col>&lt;dbl&gt;</th><th scope=col>&lt;dbl&gt;</th></tr>\n",
       "</thead>\n",
       "<tbody>\n",
       "\t<tr><th scope=row>1</th><td> 8</td><td>1</td></tr>\n",
       "\t<tr><th scope=row>2</th><td> 9</td><td>1</td></tr>\n",
       "\t<tr><th scope=row>3</th><td>14</td><td>1</td></tr>\n",
       "\t<tr><th scope=row>4</th><td>10</td><td>1</td></tr>\n",
       "\t<tr><th scope=row>5</th><td>10</td><td>1</td></tr>\n",
       "\t<tr><th scope=row>6</th><td>15</td><td>1</td></tr>\n",
       "</tbody>\n",
       "</table>\n"
      ],
      "text/latex": [
       "A data.frame: 6 × 2\n",
       "\\begin{tabular}{r|ll}\n",
       "  & data & f\\\\\n",
       "  & <dbl> & <dbl>\\\\\n",
       "\\hline\n",
       "\t1 &  8 & 1\\\\\n",
       "\t2 &  9 & 1\\\\\n",
       "\t3 & 14 & 1\\\\\n",
       "\t4 & 10 & 1\\\\\n",
       "\t5 & 10 & 1\\\\\n",
       "\t6 & 15 & 1\\\\\n",
       "\\end{tabular}\n"
      ],
      "text/markdown": [
       "\n",
       "A data.frame: 6 × 2\n",
       "\n",
       "| <!--/--> | data &lt;dbl&gt; | f &lt;dbl&gt; |\n",
       "|---|---|---|\n",
       "| 1 |  8 | 1 |\n",
       "| 2 |  9 | 1 |\n",
       "| 3 | 14 | 1 |\n",
       "| 4 | 10 | 1 |\n",
       "| 5 | 10 | 1 |\n",
       "| 6 | 15 | 1 |\n",
       "\n"
      ],
      "text/plain": [
       "  data f\n",
       "1  8   1\n",
       "2  9   1\n",
       "3 14   1\n",
       "4 10   1\n",
       "5 10   1\n",
       "6 15   1"
      ]
     },
     "metadata": {},
     "output_type": "display_data"
    }
   ],
   "source": [
    "head(df)"
   ]
  },
  {
   "cell_type": "code",
   "execution_count": 299,
   "metadata": {},
   "outputs": [
    {
     "data": {
      "text/html": [
       "<table>\n",
       "<caption>A anova: 2 × 4</caption>\n",
       "<thead>\n",
       "\t<tr><th></th><th scope=col>Res.Df</th><th scope=col>Df</th><th scope=col>Chisq</th><th scope=col>Pr(&gt;Chisq)</th></tr>\n",
       "\t<tr><th></th><th scope=col>&lt;dbl&gt;</th><th scope=col>&lt;dbl&gt;</th><th scope=col>&lt;dbl&gt;</th><th scope=col>&lt;dbl&gt;</th></tr>\n",
       "</thead>\n",
       "<tbody>\n",
       "\t<tr><th scope=row>1</th><td>96</td><td>NA</td><td>      NA</td><td>       NA</td></tr>\n",
       "\t<tr><th scope=row>2</th><td>95</td><td> 1</td><td>1.635577</td><td>0.2009334</td></tr>\n",
       "</tbody>\n",
       "</table>\n"
      ],
      "text/latex": [
       "A anova: 2 × 4\n",
       "\\begin{tabular}{r|llll}\n",
       "  & Res.Df & Df & Chisq & Pr(>Chisq)\\\\\n",
       "  & <dbl> & <dbl> & <dbl> & <dbl>\\\\\n",
       "\\hline\n",
       "\t1 & 96 & NA &       NA &        NA\\\\\n",
       "\t2 & 95 &  1 & 1.635577 & 0.2009334\\\\\n",
       "\\end{tabular}\n"
      ],
      "text/markdown": [
       "\n",
       "A anova: 2 × 4\n",
       "\n",
       "| <!--/--> | Res.Df &lt;dbl&gt; | Df &lt;dbl&gt; | Chisq &lt;dbl&gt; | Pr(&gt;Chisq) &lt;dbl&gt; |\n",
       "|---|---|---|---|---|\n",
       "| 1 | 96 | NA |       NA |        NA |\n",
       "| 2 | 95 |  1 | 1.635577 | 0.2009334 |\n",
       "\n"
      ],
      "text/plain": [
       "  Res.Df Df Chisq    Pr(>Chisq)\n",
       "1 96     NA       NA        NA \n",
       "2 95      1 1.635577 0.2009334 "
      ]
     },
     "metadata": {},
     "output_type": "display_data"
    }
   ],
   "source": [
    "zinb.model <- zeroinfl(formula = data ~ f, data = df, dist = \"negbin\")\n",
    "m0 <- zeroinfl(formula = data ~ 1|f , data = df, dist = \"negbin\")\n",
    "waldtest(m0,zinb.model)"
   ]
  },
  {
   "cell_type": "code",
   "execution_count": 311,
   "metadata": {},
   "outputs": [
    {
     "data": {
      "text/html": [
       "0.200933413093906"
      ],
      "text/latex": [
       "0.200933413093906"
      ],
      "text/markdown": [
       "0.200933413093906"
      ],
      "text/plain": [
       "[1] 0.2009334"
      ]
     },
     "metadata": {},
     "output_type": "display_data"
    }
   ],
   "source": [
    "waldtest(m0,zinb.model)[2,'Pr(>Chisq)']"
   ]
  },
  {
   "cell_type": "code",
   "execution_count": null,
   "metadata": {},
   "outputs": [],
   "source": []
  },
  {
   "cell_type": "code",
   "execution_count": 229,
   "metadata": {},
   "outputs": [
    {
     "data": {
      "text/plain": [
       "\n",
       "Call:\n",
       "zeroinfl(formula = data ~ f, data = df, dist = \"negbin\")\n",
       "\n",
       "Count model coefficients (negbin with log link):\n",
       "(Intercept)            f  \n",
       "     0.8398      -0.1520  \n",
       "Theta = 38.561 \n",
       "\n",
       "Zero-inflation model coefficients (binomial with logit link):\n",
       "(Intercept)            f  \n",
       "     0.4217       0.3754  \n"
      ]
     },
     "metadata": {},
     "output_type": "display_data"
    }
   ],
   "source": [
    "zinb.model"
   ]
  },
  {
   "cell_type": "code",
   "execution_count": null,
   "metadata": {},
   "outputs": [],
   "source": [
    "df <- data.frame()"
   ]
  },
  {
   "cell_type": "code",
   "execution_count": 218,
   "metadata": {},
   "outputs": [],
   "source": [
    "?waldtest"
   ]
  },
  {
   "cell_type": "code",
   "execution_count": 167,
   "metadata": {},
   "outputs": [],
   "source": [
    "set.seed(5)\n",
    "N <- 500\n",
    "x1 <- rpois(N,2)\n",
    "x2 <- rpois(N,3)\n",
    "x3 <- c(x1,x2)\n",
    "y1 <- rep(1,N)\n",
    "y2 <- rep(3,N)\n",
    "y3 <- c(y1,y2)\n",
    "df <- data.frame(x3,y3)"
   ]
  },
  {
   "cell_type": "code",
   "execution_count": 168,
   "metadata": {},
   "outputs": [],
   "source": [
    "poisson.model <- glm(x3 ~ y3, df, family = poisson(link = \"log\"))"
   ]
  },
  {
   "cell_type": "code",
   "execution_count": 198,
   "metadata": {},
   "outputs": [
    {
     "data": {
      "text/plain": [
       "'log Lik.' 6.472545e-22 (df=5)"
      ]
     },
     "metadata": {},
     "output_type": "display_data"
    }
   ],
   "source": [
    "zinb.model <- zeroinfl(formula = x3 ~ y3, data = df, dist = \"negbin\")\n"
   ]
  },
  {
   "cell_type": "code",
   "execution_count": 170,
   "metadata": {},
   "outputs": [
    {
     "data": {
      "text/plain": [
       "\n",
       "Call:\n",
       "zeroinfl(formula = x3 ~ y3, data = df, dist = \"negbin\")\n",
       "\n",
       "Pearson residuals:\n",
       "     Min       1Q   Median       3Q      Max \n",
       "-1.72768 -0.70291 -0.01258  0.70578  2.84591 \n",
       "\n",
       "Count model coefficients (negbin with log link):\n",
       "            Estimate Std. Error z value Pr(>|z|)    \n",
       "(Intercept)  0.48980    0.05817   8.420   <2e-16 ***\n",
       "y3           0.20673    0.02345   8.817   <2e-16 ***\n",
       "Log(theta)  10.54331   26.62345   0.396    0.692    \n",
       "\n",
       "Zero-inflation model coefficients (binomial with logit link):\n",
       "            Estimate Std. Error z value Pr(>|z|)\n",
       "(Intercept) -5.38287    7.16117  -0.752    0.452\n",
       "y3          -0.03873    2.72354  -0.014    0.989\n",
       "---\n",
       "Signif. codes:  0 '***' 0.001 '**' 0.01 '*' 0.05 '.' 0.1 ' ' 1 \n",
       "\n",
       "Theta = 37922.7808 \n",
       "Number of iterations in BFGS optimization: 46 \n",
       "Log-likelihood: -1816 on 5 Df"
      ]
     },
     "metadata": {},
     "output_type": "display_data"
    }
   ],
   "source": [
    "summary(zinb.model)"
   ]
  },
  {
   "cell_type": "code",
   "execution_count": 171,
   "metadata": {},
   "outputs": [],
   "source": [
    "m0 <- update(zinb.model, . ~ 1)"
   ]
  },
  {
   "cell_type": "code",
   "execution_count": 172,
   "metadata": {},
   "outputs": [
    {
     "data": {
      "text/plain": [
       "\n",
       "Call:\n",
       "zeroinfl(formula = x3 ~ 1, data = df, dist = \"negbin\")\n",
       "\n",
       "Pearson residuals:\n",
       "    Min      1Q  Median      3Q     Max \n",
       "-1.5284 -0.9195 -0.3106  0.9073  3.3431 \n",
       "\n",
       "Count model coefficients (negbin with log link):\n",
       "            Estimate Std. Error z value Pr(>|z|)    \n",
       "(Intercept)  0.93408    0.02458  37.994  < 2e-16 ***\n",
       "Log(theta)   4.16372    1.55689   2.674  0.00749 ** \n",
       "\n",
       "Zero-inflation model coefficients (binomial with logit link):\n",
       "            Estimate Std. Error z value Pr(>|z|)    \n",
       "(Intercept)   -4.277      1.043    -4.1 4.12e-05 ***\n",
       "---\n",
       "Signif. codes:  0 '***' 0.001 '**' 0.01 '*' 0.05 '.' 0.1 ' ' 1 \n",
       "\n",
       "Theta = 64.3102 \n",
       "Number of iterations in BFGS optimization: 19 \n",
       "Log-likelihood: -1867 on 3 Df"
      ]
     },
     "metadata": {},
     "output_type": "display_data"
    }
   ],
   "source": [
    "summary(m0)"
   ]
  },
  {
   "cell_type": "code",
   "execution_count": 173,
   "metadata": {},
   "outputs": [
    {
     "data": {
      "text/plain": [
       "'log Lik.' 6.472545e-22 (df=5)"
      ]
     },
     "metadata": {},
     "output_type": "display_data"
    }
   ],
   "source": [
    "pchisq(2 * (logLik(zinb.model) - logLik(m0)), df = 3, lower.tail=FALSE)"
   ]
  },
  {
   "cell_type": "code",
   "execution_count": 121,
   "metadata": {},
   "outputs": [],
   "source": [
    "df.test <- data.frame(y3=c(1,3))"
   ]
  },
  {
   "cell_type": "code",
   "execution_count": 122,
   "metadata": {},
   "outputs": [
    {
     "data": {
      "text/html": [
       "<dl class=dl-horizontal>\n",
       "\t<dt>1</dt>\n",
       "\t\t<dd>1.99867400000006</dd>\n",
       "\t<dt>2</dt>\n",
       "\t\t<dd>4.99536000000001</dd>\n",
       "</dl>\n"
      ],
      "text/latex": [
       "\\begin{description*}\n",
       "\\item[1] 1.99867400000006\n",
       "\\item[2] 4.99536000000001\n",
       "\\end{description*}\n"
      ],
      "text/markdown": [
       "1\n",
       ":   1.998674000000062\n",
       ":   4.99536000000001\n",
       "\n"
      ],
      "text/plain": [
       "       1        2 \n",
       "1.998674 4.995360 "
      ]
     },
     "metadata": {},
     "output_type": "display_data"
    }
   ],
   "source": [
    "predict(poisson.model,df.test,type = \"response\")"
   ]
  },
  {
   "cell_type": "code",
   "execution_count": null,
   "metadata": {},
   "outputs": [],
   "source": []
  }
 ],
 "metadata": {
  "kernelspec": {
   "display_name": "R",
   "language": "R",
   "name": "ir"
  },
  "language_info": {
   "codemirror_mode": "r",
   "file_extension": ".r",
   "mimetype": "text/x-r-source",
   "name": "R",
   "pygments_lexer": "r",
   "version": "3.6.1"
  }
 },
 "nbformat": 4,
 "nbformat_minor": 4
}
