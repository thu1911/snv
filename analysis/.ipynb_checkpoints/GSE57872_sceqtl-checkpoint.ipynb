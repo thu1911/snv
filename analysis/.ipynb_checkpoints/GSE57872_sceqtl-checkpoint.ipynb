{
 "cells": [
  {
   "cell_type": "code",
   "execution_count": 103,
   "metadata": {},
   "outputs": [
    {
     "name": "stderr",
     "output_type": "stream",
     "text": [
      "Loading required package: zoo\n",
      "\n",
      "\n",
      "Attaching package: ‘zoo’\n",
      "\n",
      "\n",
      "The following objects are masked from ‘package:base’:\n",
      "\n",
      "    as.Date, as.Date.numeric\n",
      "\n",
      "\n"
     ]
    }
   ],
   "source": [
    "#library(Seurat)\n",
    "#library(SCeQTL)\n",
    "library(doParallel)\n",
    "library(ggplot2)\n",
    "library(pscl)\n",
    "library(lmtest)"
   ]
  },
  {
   "cell_type": "code",
   "execution_count": 249,
   "metadata": {},
   "outputs": [],
   "source": [
    "gene.file <- \"/data8t/mtx/scSNV/dataset_v2/GSE57872/data/processed_profile/GSE57872_cpm_final_1000genes.csv\"\n",
    "gene.df <- read.csv(gene.file, header=TRUE,row.names = 1)\n",
    "snv.file <- \"/data8t/mtx/scSNV/dataset_v2/GSE57872/data/processed_profile/GSE57872_snv_on_filtered_genes_pass_40_cells.csv\"\n",
    "snv.df <- read.csv(snv.file, header=TRUE,row.names = 1)"
   ]
  },
  {
   "cell_type": "code",
   "execution_count": 250,
   "metadata": {},
   "outputs": [
    {
     "data": {
      "text/html": [
       "<ol class=list-inline>\n",
       "\t<li>1000</li>\n",
       "\t<li>489</li>\n",
       "</ol>\n"
      ],
      "text/latex": [
       "\\begin{enumerate*}\n",
       "\\item 1000\n",
       "\\item 489\n",
       "\\end{enumerate*}\n"
      ],
      "text/markdown": [
       "1. 1000\n",
       "2. 489\n",
       "\n",
       "\n"
      ],
      "text/plain": [
       "[1] 1000  489"
      ]
     },
     "metadata": {},
     "output_type": "display_data"
    }
   ],
   "source": [
    "dim(gene.df)"
   ]
  },
  {
   "cell_type": "code",
   "execution_count": 251,
   "metadata": {},
   "outputs": [
    {
     "data": {
      "text/html": [
       "<ol class=list-inline>\n",
       "\t<li>3516</li>\n",
       "\t<li>489</li>\n",
       "</ol>\n"
      ],
      "text/latex": [
       "\\begin{enumerate*}\n",
       "\\item 3516\n",
       "\\item 489\n",
       "\\end{enumerate*}\n"
      ],
      "text/markdown": [
       "1. 3516\n",
       "2. 489\n",
       "\n",
       "\n"
      ],
      "text/plain": [
       "[1] 3516  489"
      ]
     },
     "metadata": {},
     "output_type": "display_data"
    }
   ],
   "source": [
    "dim(snv.df)"
   ]
  },
  {
   "cell_type": "code",
   "execution_count": 252,
   "metadata": {},
   "outputs": [],
   "source": [
    "calculate.pvalue.one.pair <- function(gene.vector,snv.vector){\n",
    "  # Here I need to merge gene vector(a dataframe with only one gene row) and \n",
    "  # snv vector(a dataframe with only one snv row) into a dataframe\n",
    "  df <- as.data.frame(t(rbind(gene.vector,snv.vector)))\n",
    "  colnames(df) <- c('gene','snv')\n",
    "  if(sum(df$gene==0)>0){\n",
    "    zinb.model <- try(zeroinfl(formula = gene ~ snv, data = df, dist = \"negbin\"),silent = TRUE)\n",
    "    m0 <- try(zeroinfl(formula = gene ~ 1|snv , data = df, dist = \"negbin\"),silent = TRUE)\n",
    "    if (class(zinb.model)=='try-error' | class(m0)=='try-error'){\n",
    "      pvalue <- NA\n",
    "    }else{\n",
    "      pvalue <- waldtest(m0,zinb.model)[2,'Pr(>Chisq)']\n",
    "    }\n",
    "    return(pvalue)\n",
    "  }else{\n",
    "    print('yes')\n",
    "    poisson.model <- try(glm(formula = gene ~ snv, family=\"poisson\", data=df),silent = TRUE)\n",
    "    m0 <- try(glm(formula = gene ~ 1, family=\"poisson\", data=df),silent = TRUE)\n",
    "    message(\"Since all genes are non-zero, back to Poisson regression.\")\n",
    "    if ('try-error' %in% class(poisson.model)| 'try-error' %in% class(m0)){\n",
    "      pvalue <- NA\n",
    "    }else{\n",
    "      pvalue <- waldtest(m0,poisson.model)[2,'Pr(>F)']\n",
    "    }\n",
    "    return(pvalue)\n",
    "  }\n",
    "}"
   ]
  },
  {
   "cell_type": "code",
   "execution_count": 290,
   "metadata": {},
   "outputs": [],
   "source": [
    "calculate.pvalue.from.df <- function(gene.df,snv.df,thread = 16){\n",
    "    # gene.df is gene * sample\n",
    "    # snv.df is snv * sample\n",
    "    registerDoParallel(thread)\n",
    "    gene.count = dim(gene.df)[1]\n",
    "    snv.count = dim(snv.df)[1]\n",
    "    gene.name <- row.names(gene.df)\n",
    "    snv.name <- row.names(snv.df)\n",
    "    pvalue = list()\n",
    "    j = 0\n",
    "    message(\"Start calculating p value...\\n\")\n",
    "    for(i in 1:gene.count){\n",
    "        if(i%%100==0){\n",
    "            message(paste0(\"calculate pvalue for gene: \", i, \"\\n\"))\n",
    "        }\n",
    "        result = foreach(j=1:snv.count) %dopar% {calculate.pvalue.one.pair(gene.df[i,],snv.df[j,])}\n",
    "        pvalue = rbind(pvalue,result)\n",
    "    }\n",
    "    pvalue.df <- as.data.frame(pvalue)\n",
    "    pvalue.df <- as.data.frame(sapply(pvalue.df, as.numeric))\n",
    "    row.names(pvalue.df) <- gene.name\n",
    "    colnames(pvalue.df) <- snv.name\n",
    "    return(pvalue.df)\n",
    "}"
   ]
  },
  {
   "cell_type": "code",
   "execution_count": 291,
   "metadata": {},
   "outputs": [
    {
     "name": "stderr",
     "output_type": "stream",
     "text": [
      "Start calculating p value...\n",
      "\n",
      "\n"
     ]
    }
   ],
   "source": [
    "start.time <- Sys.time()\n",
    "result <- calculate.pvalue.from.df(gene.df,snv.df,thread = 28)\n",
    "end.time <- Sys.time()\n",
    "time.taken <- end.time - start.time\n",
    "saveRDS(result, \"all_gene_snv_test.rds\")"
   ]
  },
  {
   "cell_type": "code",
   "execution_count": null,
   "metadata": {},
   "outputs": [],
   "source": []
  }
 ],
 "metadata": {
  "kernelspec": {
   "display_name": "R",
   "language": "R",
   "name": "ir"
  },
  "language_info": {
   "codemirror_mode": "r",
   "file_extension": ".r",
   "mimetype": "text/x-r-source",
   "name": "R",
   "pygments_lexer": "r",
   "version": "3.6.1"
  }
 },
 "nbformat": 4,
 "nbformat_minor": 4
}
