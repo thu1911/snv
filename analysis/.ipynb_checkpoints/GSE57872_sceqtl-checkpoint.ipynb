{
 "cells": [
  {
   "cell_type": "code",
   "execution_count": 1,
   "metadata": {},
   "outputs": [
    {
     "name": "stderr",
     "output_type": "stream",
     "text": [
      "Loading required package: foreach\n",
      "\n",
      "Loading required package: iterators\n",
      "\n",
      "Loading required package: parallel\n",
      "\n"
     ]
    }
   ],
   "source": [
    "#library(Seurat)\n",
    "#library(SCeQTL)\n",
    "library(doParallel)\n",
    "library(ggplot2)"
   ]
  },
  {
   "cell_type": "code",
   "execution_count": 5,
   "metadata": {},
   "outputs": [],
   "source": [
    "gene.file <- \"/data8t/mtx/scSNV/dataset_v2/GSE57872/data/processed_profile/GSE57872_cpm_final.csv\"\n",
    "gene.df <- read.csv(gene.file, header=TRUE,row.names = 1)\n",
    "snv.file <- \"/data8t/mtx/scSNV/dataset_v2/GSE57872/data/processed_profile/GSE57872_snv_on_filtered_genes.csv\"\n",
    "snv.df <- read.csv(snv.file, header=TRUE,row.names = 1)"
   ]
  },
  {
   "cell_type": "code",
   "execution_count": 8,
   "metadata": {},
   "outputs": [
    {
     "data": {
      "text/html": [
       "<ol class=list-inline>\n",
       "\t<li>1500</li>\n",
       "\t<li>489</li>\n",
       "</ol>\n"
      ],
      "text/latex": [
       "\\begin{enumerate*}\n",
       "\\item 1500\n",
       "\\item 489\n",
       "\\end{enumerate*}\n"
      ],
      "text/markdown": [
       "1. 1500\n",
       "2. 489\n",
       "\n",
       "\n"
      ],
      "text/plain": [
       "[1] 1500  489"
      ]
     },
     "metadata": {},
     "output_type": "display_data"
    }
   ],
   "source": [
    "dim(gene.df)"
   ]
  },
  {
   "cell_type": "code",
   "execution_count": 7,
   "metadata": {},
   "outputs": [
    {
     "data": {
      "text/html": [
       "<ol class=list-inline>\n",
       "\t<li>52131</li>\n",
       "\t<li>489</li>\n",
       "</ol>\n"
      ],
      "text/latex": [
       "\\begin{enumerate*}\n",
       "\\item 52131\n",
       "\\item 489\n",
       "\\end{enumerate*}\n"
      ],
      "text/markdown": [
       "1. 52131\n",
       "2. 489\n",
       "\n",
       "\n"
      ],
      "text/plain": [
       "[1] 52131   489"
      ]
     },
     "metadata": {},
     "output_type": "display_data"
    }
   ],
   "source": [
    "dim(snv.df)"
   ]
  },
  {
   "cell_type": "code",
   "execution_count": null,
   "metadata": {},
   "outputs": [],
   "source": [
    "cal.pvalue <- function(gene, snp, thread = 8, remove_outlier = TRUE,EM = FALSE, dist = 'negbin', type = 0){\n",
    "    removeoutlier <- function(sample.data){\n",
    "        sample.data.no.zero = sample.data[sample.data$expression!=0,1]\n",
    "        med = median(sample.data.no.zero)\n",
    "        Mad = mad(sample.data.no.zero)\n",
    "        return(sample.data[sample.data$expression<med+4*Mad,])\n",
    "    }\n",
    "\n",
    "    zeroinfl_model <- function(sample_gene, sample_snp, remove_outlier=TRUE, dist='negbin', EM = TRUE, type = 0){\n",
    "        sample.data = data.frame(unlist(sample_gene), unlist(sample_snp))\n",
    "        colnames(sample.data) = c('expression','snp')\n",
    "        if(remove_outlier)\n",
    "          sample.data = removeoutlier(sample.data)\n",
    "        m1 <- try(zeroinfl(expression ~ snp, data = sample.data, dist = dist, EM = EM), silent=TRUE)\n",
    "        if(class(m1)==\"try-error\")\n",
    "          return(NA)\n",
    "\n",
    "        if(type==0){\n",
    "          m0 <- zeroinfl(expression ~ snp|1, data = sample.data, dist = dist, EM = EM)\n",
    "          .df <- 1\n",
    "        }\n",
    "        else if(type==1){\n",
    "          m0 <- zeroinfl(expression ~ 1|snp, data = sample.data, dist = dist, EM = EM)\n",
    "          .df <- 1\n",
    "        }\n",
    "        else{\n",
    "          m0 <- zeroinfl(expression ~ 1, data = sample.data, dist = dist, EM = EM)\n",
    "          .df <- 2\n",
    "        }\n",
    "        return(pchisq(2 * (logLik(m1) - logLik(m0)), df = .df, lower.tail=FALSE))\n",
    "    }\n",
    "    if (type == 0) \n",
    "        message(\"Identyfing non-zero part difference...\\n\")\n",
    "    else if (type == 1) \n",
    "        message(\"Identyfing zero ratio difference...\\n\")\n",
    "    else \n",
    "        message(\"Identyfing non-zero part or/and zero ratio difference...\\n\")\n",
    "    registerDoParallel(thread)\n",
    "    countzero <- rowSums(gene != 0)\n",
    "    gene <- gene[countzero > 3,]\n",
    "    removed <- labels(countzero)[countzero <= 3]\n",
    "    if (length(removed) != 0)\n",
    "        for(i in 1:length(removed))\n",
    "            message(paste0(\"Gene: \", removed[i], \" was removed because of excess zero.\\n\"))\n",
    "    else \n",
    "        message('No gene was removed because of excess zero.\\n')\n",
    "    if (nrow(gene) == 0) stop('No gene to be tested.')\n",
    "    gene.count = dim(gene)[1]\n",
    "    snp.count = dim(snp)[1]\n",
    "    pvalue = list()\n",
    "    j = 0\n",
    "    message(\"Start calculating p value...\\n\")\n",
    "    for(i in 1:gene.count){\n",
    "        message(paste0(\"calculate pvalue for gene: \", i, \"\\n\"))\n",
    "        result = foreach(j=1:snp.count) %dopar% {zeroinfl_model(gene[i,],snp[j,],remove_outlier=remove_outlier,dist=dist,EM=EM,type=type)}\n",
    "        pvalue = rbind(pvalue,result)\n",
    "    }\n",
    "    gene.name = rep(row.names(gene), each = snp.count)\n",
    "    if(is.null(row.names(snp))){\n",
    "        snp.raw.name = 1:snp.count\n",
    "    }else\n",
    "        snp.raw.name = row.names(snp)\n",
    "    snp.name = list()\n",
    "    for(i in 1:gene.count)\n",
    "        snp.name = c(snp.name, snp.raw.name)\n",
    "    result = data.frame(gene.name, unlist(snp.name), unlist(pvalue))\n",
    "    colnames(result) <- c(\"gene\",\"snp\",\"pvalue\")\n",
    "    return(result)\n",
    "}\n"
   ]
  },
  {
   "cell_type": "code",
   "execution_count": 10,
   "metadata": {},
   "outputs": [],
   "source": [
    "calculate.pvalue.one.pair <- function(df){\n",
    "  # here df is a dataframe with 2 cols: gene, snv\n",
    "  # if all genes are non-zero,back to poisson regression\n",
    "  #print(sum(df$gene==0))\n",
    "  if(sum(df$gene==0)>0){\n",
    "    zinb.model <- try(zeroinfl(formula = gene ~ snv, data = df, dist = \"negbin\"),silent = TRUE)\n",
    "    m0 <- try(zeroinfl(formula = gene ~ 1|snv , data = df, dist = \"negbin\"),silent = TRUE)\n",
    "    if (class(zinb.model)=='try-error' | class(m0)=='try-error'){\n",
    "      pvalue <- NA\n",
    "    }else{\n",
    "      pvalue <- waldtest(m0,zinb.model)[2,'Pr(>Chisq)']\n",
    "    }\n",
    "    return(pvalue)\n",
    "  }else{\n",
    "    print('yes')\n",
    "    poisson.model <- try(glm(formula = gene ~ snv, family=\"poisson\", data=df),silent = TRUE)\n",
    "    m0 <- try(glm(formula = gene ~ 1, family=\"poisson\", data=df),silent = TRUE)\n",
    "    message(\"Since all genes are non-zero, back to Poisson regression.\")\n",
    "    if ('try-error' %in% class(poisson.model)| 'try-error' %in% class(m0)){\n",
    "      pvalue <- NA\n",
    "    }else{\n",
    "      pvalue <- waldtest(m0,poisson.model)[2,'Pr(>F)']\n",
    "    }\n",
    "    return(pvalue)\n",
    "  }\n",
    "}"
   ]
  },
  {
   "cell_type": "code",
   "execution_count": 15,
   "metadata": {},
   "outputs": [],
   "source": [
    "calculate.pvalue.from.df <- function(gene.df,snv.df,thread = 16){\n",
    "    # gene.df is gene * sample\n",
    "    # snv.df is snv * sample\n",
    "    registerDoParallel(thread)\n",
    "    gene.count = dim(gene)[1]\n",
    "    snp.count = dim(snp)[1]\n",
    "    print(gene.count)\n",
    "    print(snp.count)\n",
    "}"
   ]
  },
  {
   "cell_type": "code",
   "execution_count": 16,
   "metadata": {},
   "outputs": [
    {
     "ename": "ERROR",
     "evalue": "Error in registerDoParallel(thread): 没有\"registerDoParallel\"这个函数\n",
     "output_type": "error",
     "traceback": [
      "Error in registerDoParallel(thread): 没有\"registerDoParallel\"这个函数\nTraceback:\n",
      "1. calculate.pvalue.from.df(gene.df, snv.df)"
     ]
    }
   ],
   "source": [
    "calculate.pvalue.from.df(gene.df, snv.df)"
   ]
  }
 ],
 "metadata": {
  "kernelspec": {
   "display_name": "R",
   "language": "R",
   "name": "ir"
  },
  "language_info": {
   "codemirror_mode": "r",
   "file_extension": ".r",
   "mimetype": "text/x-r-source",
   "name": "R",
   "pygments_lexer": "r",
   "version": "3.6.1"
  }
 },
 "nbformat": 4,
 "nbformat_minor": 4
}
