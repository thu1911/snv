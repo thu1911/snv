{
 "cells": [
  {
   "cell_type": "code",
   "execution_count": 103,
   "metadata": {},
   "outputs": [
    {
     "name": "stderr",
     "output_type": "stream",
     "text": [
      "Loading required package: zoo\n",
      "\n",
      "\n",
      "Attaching package: ‘zoo’\n",
      "\n",
      "\n",
      "The following objects are masked from ‘package:base’:\n",
      "\n",
      "    as.Date, as.Date.numeric\n",
      "\n",
      "\n"
     ]
    }
   ],
   "source": [
    "#library(Seurat)\n",
    "#library(SCeQTL)\n",
    "library(doParallel)\n",
    "library(ggplot2)\n",
    "library(pscl)\n",
    "library(lmtest)"
   ]
  },
  {
   "cell_type": "code",
   "execution_count": 2,
   "metadata": {},
   "outputs": [],
   "source": [
    "gene.file <- \"/data8t/mtx/scSNV/dataset_v2/GSE57872/data/processed_profile/GSE57872_cpm_final.csv\"\n",
    "gene.df <- read.csv(gene.file, header=TRUE,row.names = 1)\n",
    "snv.file <- \"/data8t/mtx/scSNV/dataset_v2/GSE57872/data/processed_profile/GSE57872_snv_on_filtered_genes.csv\"\n",
    "snv.df <- read.csv(snv.file, header=TRUE,row.names = 1)"
   ]
  },
  {
   "cell_type": "code",
   "execution_count": 3,
   "metadata": {},
   "outputs": [
    {
     "data": {
      "text/html": [
       "<ol class=list-inline>\n",
       "\t<li>1500</li>\n",
       "\t<li>489</li>\n",
       "</ol>\n"
      ],
      "text/latex": [
       "\\begin{enumerate*}\n",
       "\\item 1500\n",
       "\\item 489\n",
       "\\end{enumerate*}\n"
      ],
      "text/markdown": [
       "1. 1500\n",
       "2. 489\n",
       "\n",
       "\n"
      ],
      "text/plain": [
       "[1] 1500  489"
      ]
     },
     "metadata": {},
     "output_type": "display_data"
    }
   ],
   "source": [
    "dim(gene.df)"
   ]
  },
  {
   "cell_type": "code",
   "execution_count": 4,
   "metadata": {},
   "outputs": [
    {
     "data": {
      "text/html": [
       "<ol class=list-inline>\n",
       "\t<li>52131</li>\n",
       "\t<li>489</li>\n",
       "</ol>\n"
      ],
      "text/latex": [
       "\\begin{enumerate*}\n",
       "\\item 52131\n",
       "\\item 489\n",
       "\\end{enumerate*}\n"
      ],
      "text/markdown": [
       "1. 52131\n",
       "2. 489\n",
       "\n",
       "\n"
      ],
      "text/plain": [
       "[1] 52131   489"
      ]
     },
     "metadata": {},
     "output_type": "display_data"
    }
   ],
   "source": [
    "dim(snv.df)"
   ]
  },
  {
   "cell_type": "code",
   "execution_count": null,
   "metadata": {},
   "outputs": [],
   "source": [
    "cal.pvalue <- function(gene, snp, thread = 8, remove_outlier = TRUE,EM = FALSE, dist = 'negbin', type = 0){\n",
    "\n",
    "\n",
    "    zeroinfl_model <- function(sample_gene, sample_snp, remove_outlier=TRUE, dist='negbin', EM = TRUE, type = 0){\n",
    "        sample.data = data.frame(unlist(sample_gene), unlist(sample_snp))\n",
    "        colnames(sample.data) = c('expression','snp')\n",
    "        if(remove_outlier)\n",
    "          sample.data = removeoutlier(sample.data)\n",
    "        m1 <- try(zeroinfl(expression ~ snp, data = sample.data, dist = dist, EM = EM), silent=TRUE)\n",
    "        if(class(m1)==\"try-error\")\n",
    "          return(NA)\n",
    "\n",
    "        if(type==0){\n",
    "          m0 <- zeroinfl(expression ~ snp|1, data = sample.data, dist = dist, EM = EM)\n",
    "          .df <- 1\n",
    "        }\n",
    "        else if(type==1){\n",
    "          m0 <- zeroinfl(expression ~ 1|snp, data = sample.data, dist = dist, EM = EM)\n",
    "          .df <- 1\n",
    "        }\n",
    "        else{\n",
    "          m0 <- zeroinfl(expression ~ 1, data = sample.data, dist = dist, EM = EM)\n",
    "          .df <- 2\n",
    "        }\n",
    "        return(pchisq(2 * (logLik(m1) - logLik(m0)), df = .df, lower.tail=FALSE))\n",
    "    }\n",
    "    \n",
    "    registerDoParallel(thread)\n",
    "\n",
    "    pvalue = list()\n",
    "    j = 0\n",
    "    message(\"Start calculating p value...\\n\")\n",
    "    for(i in 1:gene.count){\n",
    "        message(paste0(\"calculate pvalue for gene: \", i, \"\\n\"))\n",
    "        result = foreach(j=1:snp.count) %dopar% {zeroinfl_model(gene[i,],snp[j,],remove_outlier=remove_outlier,dist=dist,EM=EM,type=type)}\n",
    "        pvalue = rbind(pvalue,result)\n",
    "    }\n",
    "    gene.name = rep(row.names(gene), each = snp.count)\n",
    "    if(is.null(row.names(snp))){\n",
    "        snp.raw.name = 1:snp.count\n",
    "    }else\n",
    "        snp.raw.name = row.names(snp)\n",
    "    snp.name = list()\n",
    "    for(i in 1:gene.count)\n",
    "        snp.name = c(snp.name, snp.raw.name)\n",
    "    result = data.frame(gene.name, unlist(snp.name), unlist(pvalue))\n",
    "    colnames(result) <- c(\"gene\",\"snp\",\"pvalue\")\n",
    "    return(result)\n",
    "}\n"
   ]
  },
  {
   "cell_type": "code",
   "execution_count": 70,
   "metadata": {},
   "outputs": [],
   "source": [
    "calculate.pvalue.one.pair <- function(gene.vector,snv.vector){\n",
    "  # Here I need to merge gene vector(a dataframe with only one gene row) and \n",
    "  # snv vector(a dataframe with only one snv row) into a dataframe\n",
    "  df <- as.data.frame(t(rbind(gene.vector,snv.vector)))\n",
    "  colnames(df) <- c('gene','snv')\n",
    "  if(sum(df$gene==0)>0){\n",
    "    zinb.model <- try(zeroinfl(formula = gene ~ snv, data = df, dist = \"negbin\"),silent = TRUE)\n",
    "    m0 <- try(zeroinfl(formula = gene ~ 1|snv , data = df, dist = \"negbin\"),silent = TRUE)\n",
    "    if (class(zinb.model)=='try-error' | class(m0)=='try-error'){\n",
    "      pvalue <- NA\n",
    "    }else{\n",
    "      pvalue <- waldtest(m0,zinb.model)[2,'Pr(>Chisq)']\n",
    "    }\n",
    "    return(pvalue)\n",
    "  }else{\n",
    "    print('yes')\n",
    "    poisson.model <- try(glm(formula = gene ~ snv, family=\"poisson\", data=df),silent = TRUE)\n",
    "    m0 <- try(glm(formula = gene ~ 1, family=\"poisson\", data=df),silent = TRUE)\n",
    "    message(\"Since all genes are non-zero, back to Poisson regression.\")\n",
    "    if ('try-error' %in% class(poisson.model)| 'try-error' %in% class(m0)){\n",
    "      pvalue <- NA\n",
    "    }else{\n",
    "      pvalue <- waldtest(m0,poisson.model)[2,'Pr(>F)']\n",
    "    }\n",
    "    return(pvalue)\n",
    "  }\n",
    "}"
   ]
  },
  {
   "cell_type": "code",
   "execution_count": 220,
   "metadata": {},
   "outputs": [],
   "source": [
    "calculate.pvalue.from.df <- function(gene.df,snv.df,thread = 16){\n",
    "    # gene.df is gene * sample\n",
    "    # snv.df is snv * sample\n",
    "    registerDoParallel(thread)\n",
    "    gene.count = dim(gene.df)[1]\n",
    "    snv.count = dim(snv.df)[1]\n",
    "    gene.name <- row.names(gene.df)\n",
    "    snv.name <- row.names(snv.df)\n",
    "    pvalue = list()\n",
    "    j = 0\n",
    "    message(\"Start calculating p value...\\n\")\n",
    "    for(i in 1:gene.count){\n",
    "        message(paste0(\"calculate pvalue for gene: \", i, \"\\n\"))\n",
    "        result = foreach(j=1:snv.count) %dopar% {calculate.pvalue.one.pair(gene.df[i,],snv.df[j,])}\n",
    "        pvalue = rbind(pvalue,result)\n",
    "    }\n",
    "    pvalue.df <- as.data.frame(pvalue)\n",
    "    pvalue.df <- as.data.frame(sapply(pvalue.df, as.numeric))\n",
    "    row.names(pvalue.df) <- gene.name\n",
    "    colnames(pvalue.df) <- snv.name\n",
    "    return(pvalue.df)\n",
    "}"
   ]
  },
  {
   "cell_type": "code",
   "execution_count": 225,
   "metadata": {},
   "outputs": [
    {
     "name": "stderr",
     "output_type": "stream",
     "text": [
      "Start calculating p value...\n",
      "\n",
      "\n",
      "calculate pvalue for gene: 1\n",
      "\n",
      "\n",
      "calculate pvalue for gene: 2\n",
      "\n",
      "\n"
     ]
    }
   ],
   "source": [
    "start.time <- Sys.time()\n",
    "ttt <- calculate.pvalue.from.df(gene.df[1:2,],snv.df[1:3500,],thread = 24)\n",
    "end.time <- Sys.time()\n",
    "time.taken <- end.time - start.time"
   ]
  },
  {
   "cell_type": "code",
   "execution_count": 226,
   "metadata": {},
   "outputs": [
    {
     "data": {
      "text/html": [
       "<table>\n",
       "<caption>A data.frame: 2 × 3500</caption>\n",
       "<thead>\n",
       "\t<tr><th></th><th scope=col>chr1__881627</th><th scope=col>chr1__888639</th><th scope=col>chr1__1247494</th><th scope=col>chr1__7901995</th><th scope=col>chr1__11148759</th><th scope=col>chr1__13940864</th><th scope=col>chr1__13942731</th><th scope=col>chr1__20826685</th><th scope=col>chr1__20826686</th><th scope=col>chr1__20826910</th><th scope=col>⋯</th><th scope=col>chr5__63630680</th><th scope=col>chr5__63665861</th><th scope=col>chr5__63666279</th><th scope=col>chr5__63666280</th><th scope=col>chr5__64273018</th><th scope=col>chr5__64748681</th><th scope=col>chr5__64854624</th><th scope=col>chr5__64854714</th><th scope=col>chr5__64854715</th><th scope=col>chr5__64857063</th></tr>\n",
       "\t<tr><th></th><th scope=col>&lt;dbl&gt;</th><th scope=col>&lt;dbl&gt;</th><th scope=col>&lt;dbl&gt;</th><th scope=col>&lt;dbl&gt;</th><th scope=col>&lt;dbl&gt;</th><th scope=col>&lt;dbl&gt;</th><th scope=col>&lt;dbl&gt;</th><th scope=col>&lt;dbl&gt;</th><th scope=col>&lt;dbl&gt;</th><th scope=col>&lt;dbl&gt;</th><th scope=col>⋯</th><th scope=col>&lt;dbl&gt;</th><th scope=col>&lt;dbl&gt;</th><th scope=col>&lt;dbl&gt;</th><th scope=col>&lt;dbl&gt;</th><th scope=col>&lt;dbl&gt;</th><th scope=col>&lt;dbl&gt;</th><th scope=col>&lt;dbl&gt;</th><th scope=col>&lt;dbl&gt;</th><th scope=col>&lt;dbl&gt;</th><th scope=col>&lt;dbl&gt;</th></tr>\n",
       "</thead>\n",
       "<tbody>\n",
       "\t<tr><th scope=row>ENSG00000064886.9</th><td>0.6025700</td><td>0.6926937</td><td>0.5699269</td><td>0.8216961</td><td>0.01089003</td><td>3.830646e-06</td><td>3.757341e-04</td><td>1.219441e-05</td><td>1.219441e-05</td><td>1.221242e-05</td><td>⋯</td><td>1.353992e-06</td><td>1.355630e-08</td><td>NA</td><td>NA</td><td>1.0000000</td><td>1.00000000</td><td>0.73210933</td><td>0.8053735</td><td>0.8053735</td><td>       NA</td></tr>\n",
       "\t<tr><th scope=row>ENSG00000175899.10</th><td>0.8481158</td><td>0.8517960</td><td>0.1737132</td><td>0.1173339</td><td>0.03361019</td><td>3.649012e-14</td><td>1.016172e-10</td><td>7.905700e-02</td><td>7.905700e-02</td><td>6.570018e-03</td><td>⋯</td><td>5.401174e-01</td><td>8.509915e-02</td><td>NA</td><td>NA</td><td>0.9089293</td><td>0.03038904</td><td>0.01018914</td><td>0.4501856</td><td>0.4501856</td><td>0.2762313</td></tr>\n",
       "</tbody>\n",
       "</table>\n"
      ],
      "text/latex": [
       "A data.frame: 2 × 3500\n",
       "\\begin{tabular}{r|lllllllllllllllllllll}\n",
       "  & chr1\\_\\_881627 & chr1\\_\\_888639 & chr1\\_\\_1247494 & chr1\\_\\_7901995 & chr1\\_\\_11148759 & chr1\\_\\_13940864 & chr1\\_\\_13942731 & chr1\\_\\_20826685 & chr1\\_\\_20826686 & chr1\\_\\_20826910 & ⋯ & chr5\\_\\_63630680 & chr5\\_\\_63665861 & chr5\\_\\_63666279 & chr5\\_\\_63666280 & chr5\\_\\_64273018 & chr5\\_\\_64748681 & chr5\\_\\_64854624 & chr5\\_\\_64854714 & chr5\\_\\_64854715 & chr5\\_\\_64857063\\\\\n",
       "  & <dbl> & <dbl> & <dbl> & <dbl> & <dbl> & <dbl> & <dbl> & <dbl> & <dbl> & <dbl> & ⋯ & <dbl> & <dbl> & <dbl> & <dbl> & <dbl> & <dbl> & <dbl> & <dbl> & <dbl> & <dbl>\\\\\n",
       "\\hline\n",
       "\tENSG00000064886.9 & 0.6025700 & 0.6926937 & 0.5699269 & 0.8216961 & 0.01089003 & 3.830646e-06 & 3.757341e-04 & 1.219441e-05 & 1.219441e-05 & 1.221242e-05 & ⋯ & 1.353992e-06 & 1.355630e-08 & NA & NA & 1.0000000 & 1.00000000 & 0.73210933 & 0.8053735 & 0.8053735 &        NA\\\\\n",
       "\tENSG00000175899.10 & 0.8481158 & 0.8517960 & 0.1737132 & 0.1173339 & 0.03361019 & 3.649012e-14 & 1.016172e-10 & 7.905700e-02 & 7.905700e-02 & 6.570018e-03 & ⋯ & 5.401174e-01 & 8.509915e-02 & NA & NA & 0.9089293 & 0.03038904 & 0.01018914 & 0.4501856 & 0.4501856 & 0.2762313\\\\\n",
       "\\end{tabular}\n"
      ],
      "text/markdown": [
       "\n",
       "A data.frame: 2 × 3500\n",
       "\n",
       "| <!--/--> | chr1__881627 &lt;dbl&gt; | chr1__888639 &lt;dbl&gt; | chr1__1247494 &lt;dbl&gt; | chr1__7901995 &lt;dbl&gt; | chr1__11148759 &lt;dbl&gt; | chr1__13940864 &lt;dbl&gt; | chr1__13942731 &lt;dbl&gt; | chr1__20826685 &lt;dbl&gt; | chr1__20826686 &lt;dbl&gt; | chr1__20826910 &lt;dbl&gt; | ⋯ ⋯ | chr5__63630680 &lt;dbl&gt; | chr5__63665861 &lt;dbl&gt; | chr5__63666279 &lt;dbl&gt; | chr5__63666280 &lt;dbl&gt; | chr5__64273018 &lt;dbl&gt; | chr5__64748681 &lt;dbl&gt; | chr5__64854624 &lt;dbl&gt; | chr5__64854714 &lt;dbl&gt; | chr5__64854715 &lt;dbl&gt; | chr5__64857063 &lt;dbl&gt; |\n",
       "|---|---|---|---|---|---|---|---|---|---|---|---|---|---|---|---|---|---|---|---|---|---|\n",
       "| ENSG00000064886.9 | 0.6025700 | 0.6926937 | 0.5699269 | 0.8216961 | 0.01089003 | 3.830646e-06 | 3.757341e-04 | 1.219441e-05 | 1.219441e-05 | 1.221242e-05 | ⋯ | 1.353992e-06 | 1.355630e-08 | NA | NA | 1.0000000 | 1.00000000 | 0.73210933 | 0.8053735 | 0.8053735 |        NA |\n",
       "| ENSG00000175899.10 | 0.8481158 | 0.8517960 | 0.1737132 | 0.1173339 | 0.03361019 | 3.649012e-14 | 1.016172e-10 | 7.905700e-02 | 7.905700e-02 | 6.570018e-03 | ⋯ | 5.401174e-01 | 8.509915e-02 | NA | NA | 0.9089293 | 0.03038904 | 0.01018914 | 0.4501856 | 0.4501856 | 0.2762313 |\n",
       "\n"
      ],
      "text/plain": [
       "                   chr1__881627 chr1__888639 chr1__1247494 chr1__7901995\n",
       "ENSG00000064886.9  0.6025700    0.6926937    0.5699269     0.8216961    \n",
       "ENSG00000175899.10 0.8481158    0.8517960    0.1737132     0.1173339    \n",
       "                   chr1__11148759 chr1__13940864 chr1__13942731 chr1__20826685\n",
       "ENSG00000064886.9  0.01089003     3.830646e-06   3.757341e-04   1.219441e-05  \n",
       "ENSG00000175899.10 0.03361019     3.649012e-14   1.016172e-10   7.905700e-02  \n",
       "                   chr1__20826686 chr1__20826910 ⋯ chr5__63630680\n",
       "ENSG00000064886.9  1.219441e-05   1.221242e-05   ⋯ 1.353992e-06  \n",
       "ENSG00000175899.10 7.905700e-02   6.570018e-03   ⋯ 5.401174e-01  \n",
       "                   chr5__63665861 chr5__63666279 chr5__63666280 chr5__64273018\n",
       "ENSG00000064886.9  1.355630e-08   NA             NA             1.0000000     \n",
       "ENSG00000175899.10 8.509915e-02   NA             NA             0.9089293     \n",
       "                   chr5__64748681 chr5__64854624 chr5__64854714 chr5__64854715\n",
       "ENSG00000064886.9  1.00000000     0.73210933     0.8053735      0.8053735     \n",
       "ENSG00000175899.10 0.03038904     0.01018914     0.4501856      0.4501856     \n",
       "                   chr5__64857063\n",
       "ENSG00000064886.9         NA     \n",
       "ENSG00000175899.10 0.2762313     "
      ]
     },
     "metadata": {},
     "output_type": "display_data"
    }
   ],
   "source": [
    "ttt"
   ]
  },
  {
   "cell_type": "code",
   "execution_count": 229,
   "metadata": {},
   "outputs": [
    {
     "data": {
      "text/plain": [
       "Time difference of 2.370075 mins"
      ]
     },
     "metadata": {},
     "output_type": "display_data"
    }
   ],
   "source": [
    "time.taken"
   ]
  },
  {
   "cell_type": "code",
   "execution_count": 224,
   "metadata": {},
   "outputs": [
    {
     "data": {
      "text/html": [
       "16.6666666666667"
      ],
      "text/latex": [
       "16.6666666666667"
      ],
      "text/markdown": [
       "16.6666666666667"
      ],
      "text/plain": [
       "[1] 16.66667"
      ]
     },
     "metadata": {},
     "output_type": "display_data"
    }
   ],
   "source": [
    "1000 /60"
   ]
  },
  {
   "cell_type": "code",
   "execution_count": 231,
   "metadata": {},
   "outputs": [
    {
     "data": {
      "text/html": [
       "19.4444444444444"
      ],
      "text/latex": [
       "19.4444444444444"
      ],
      "text/markdown": [
       "19.4444444444444"
      ],
      "text/plain": [
       "[1] 19.44444"
      ]
     },
     "metadata": {},
     "output_type": "display_data"
    }
   ],
   "source": [
    "70 * 1000 / 60 /60"
   ]
  },
  {
   "cell_type": "code",
   "execution_count": 232,
   "metadata": {},
   "outputs": [],
   "source": [
    "saveRDS(ttt, \"delete.rds\")"
   ]
  },
  {
   "cell_type": "code",
   "execution_count": 237,
   "metadata": {},
   "outputs": [
    {
     "data": {
      "text/html": [
       "<table>\n",
       "<caption>A data.frame: 2 × 3500</caption>\n",
       "<thead>\n",
       "\t<tr><th></th><th scope=col>chr1__881627</th><th scope=col>chr1__888639</th><th scope=col>chr1__1247494</th><th scope=col>chr1__7901995</th><th scope=col>chr1__11148759</th><th scope=col>chr1__13940864</th><th scope=col>chr1__13942731</th><th scope=col>chr1__20826685</th><th scope=col>chr1__20826686</th><th scope=col>chr1__20826910</th><th scope=col>⋯</th><th scope=col>chr5__63630680</th><th scope=col>chr5__63665861</th><th scope=col>chr5__63666279</th><th scope=col>chr5__63666280</th><th scope=col>chr5__64273018</th><th scope=col>chr5__64748681</th><th scope=col>chr5__64854624</th><th scope=col>chr5__64854714</th><th scope=col>chr5__64854715</th><th scope=col>chr5__64857063</th></tr>\n",
       "\t<tr><th></th><th scope=col>&lt;dbl&gt;</th><th scope=col>&lt;dbl&gt;</th><th scope=col>&lt;dbl&gt;</th><th scope=col>&lt;dbl&gt;</th><th scope=col>&lt;dbl&gt;</th><th scope=col>&lt;dbl&gt;</th><th scope=col>&lt;dbl&gt;</th><th scope=col>&lt;dbl&gt;</th><th scope=col>&lt;dbl&gt;</th><th scope=col>&lt;dbl&gt;</th><th scope=col>⋯</th><th scope=col>&lt;dbl&gt;</th><th scope=col>&lt;dbl&gt;</th><th scope=col>&lt;dbl&gt;</th><th scope=col>&lt;dbl&gt;</th><th scope=col>&lt;dbl&gt;</th><th scope=col>&lt;dbl&gt;</th><th scope=col>&lt;dbl&gt;</th><th scope=col>&lt;dbl&gt;</th><th scope=col>&lt;dbl&gt;</th><th scope=col>&lt;dbl&gt;</th></tr>\n",
       "</thead>\n",
       "<tbody>\n",
       "\t<tr><th scope=row>ENSG00000064886.9</th><td>0.6025700</td><td>0.6926937</td><td>0.5699269</td><td>0.8216961</td><td>0.01089003</td><td>3.830646e-06</td><td>3.757341e-04</td><td>1.219441e-05</td><td>1.219441e-05</td><td>1.221242e-05</td><td>⋯</td><td>1.353992e-06</td><td>1.355630e-08</td><td>NA</td><td>NA</td><td>1.0000000</td><td>1.00000000</td><td>0.73210933</td><td>0.8053735</td><td>0.8053735</td><td>       NA</td></tr>\n",
       "\t<tr><th scope=row>ENSG00000175899.10</th><td>0.8481158</td><td>0.8517960</td><td>0.1737132</td><td>0.1173339</td><td>0.03361019</td><td>3.649012e-14</td><td>1.016172e-10</td><td>7.905700e-02</td><td>7.905700e-02</td><td>6.570018e-03</td><td>⋯</td><td>5.401174e-01</td><td>8.509915e-02</td><td>NA</td><td>NA</td><td>0.9089293</td><td>0.03038904</td><td>0.01018914</td><td>0.4501856</td><td>0.4501856</td><td>0.2762313</td></tr>\n",
       "</tbody>\n",
       "</table>\n"
      ],
      "text/latex": [
       "A data.frame: 2 × 3500\n",
       "\\begin{tabular}{r|lllllllllllllllllllll}\n",
       "  & chr1\\_\\_881627 & chr1\\_\\_888639 & chr1\\_\\_1247494 & chr1\\_\\_7901995 & chr1\\_\\_11148759 & chr1\\_\\_13940864 & chr1\\_\\_13942731 & chr1\\_\\_20826685 & chr1\\_\\_20826686 & chr1\\_\\_20826910 & ⋯ & chr5\\_\\_63630680 & chr5\\_\\_63665861 & chr5\\_\\_63666279 & chr5\\_\\_63666280 & chr5\\_\\_64273018 & chr5\\_\\_64748681 & chr5\\_\\_64854624 & chr5\\_\\_64854714 & chr5\\_\\_64854715 & chr5\\_\\_64857063\\\\\n",
       "  & <dbl> & <dbl> & <dbl> & <dbl> & <dbl> & <dbl> & <dbl> & <dbl> & <dbl> & <dbl> & ⋯ & <dbl> & <dbl> & <dbl> & <dbl> & <dbl> & <dbl> & <dbl> & <dbl> & <dbl> & <dbl>\\\\\n",
       "\\hline\n",
       "\tENSG00000064886.9 & 0.6025700 & 0.6926937 & 0.5699269 & 0.8216961 & 0.01089003 & 3.830646e-06 & 3.757341e-04 & 1.219441e-05 & 1.219441e-05 & 1.221242e-05 & ⋯ & 1.353992e-06 & 1.355630e-08 & NA & NA & 1.0000000 & 1.00000000 & 0.73210933 & 0.8053735 & 0.8053735 &        NA\\\\\n",
       "\tENSG00000175899.10 & 0.8481158 & 0.8517960 & 0.1737132 & 0.1173339 & 0.03361019 & 3.649012e-14 & 1.016172e-10 & 7.905700e-02 & 7.905700e-02 & 6.570018e-03 & ⋯ & 5.401174e-01 & 8.509915e-02 & NA & NA & 0.9089293 & 0.03038904 & 0.01018914 & 0.4501856 & 0.4501856 & 0.2762313\\\\\n",
       "\\end{tabular}\n"
      ],
      "text/markdown": [
       "\n",
       "A data.frame: 2 × 3500\n",
       "\n",
       "| <!--/--> | chr1__881627 &lt;dbl&gt; | chr1__888639 &lt;dbl&gt; | chr1__1247494 &lt;dbl&gt; | chr1__7901995 &lt;dbl&gt; | chr1__11148759 &lt;dbl&gt; | chr1__13940864 &lt;dbl&gt; | chr1__13942731 &lt;dbl&gt; | chr1__20826685 &lt;dbl&gt; | chr1__20826686 &lt;dbl&gt; | chr1__20826910 &lt;dbl&gt; | ⋯ ⋯ | chr5__63630680 &lt;dbl&gt; | chr5__63665861 &lt;dbl&gt; | chr5__63666279 &lt;dbl&gt; | chr5__63666280 &lt;dbl&gt; | chr5__64273018 &lt;dbl&gt; | chr5__64748681 &lt;dbl&gt; | chr5__64854624 &lt;dbl&gt; | chr5__64854714 &lt;dbl&gt; | chr5__64854715 &lt;dbl&gt; | chr5__64857063 &lt;dbl&gt; |\n",
       "|---|---|---|---|---|---|---|---|---|---|---|---|---|---|---|---|---|---|---|---|---|---|\n",
       "| ENSG00000064886.9 | 0.6025700 | 0.6926937 | 0.5699269 | 0.8216961 | 0.01089003 | 3.830646e-06 | 3.757341e-04 | 1.219441e-05 | 1.219441e-05 | 1.221242e-05 | ⋯ | 1.353992e-06 | 1.355630e-08 | NA | NA | 1.0000000 | 1.00000000 | 0.73210933 | 0.8053735 | 0.8053735 |        NA |\n",
       "| ENSG00000175899.10 | 0.8481158 | 0.8517960 | 0.1737132 | 0.1173339 | 0.03361019 | 3.649012e-14 | 1.016172e-10 | 7.905700e-02 | 7.905700e-02 | 6.570018e-03 | ⋯ | 5.401174e-01 | 8.509915e-02 | NA | NA | 0.9089293 | 0.03038904 | 0.01018914 | 0.4501856 | 0.4501856 | 0.2762313 |\n",
       "\n"
      ],
      "text/plain": [
       "                   chr1__881627 chr1__888639 chr1__1247494 chr1__7901995\n",
       "ENSG00000064886.9  0.6025700    0.6926937    0.5699269     0.8216961    \n",
       "ENSG00000175899.10 0.8481158    0.8517960    0.1737132     0.1173339    \n",
       "                   chr1__11148759 chr1__13940864 chr1__13942731 chr1__20826685\n",
       "ENSG00000064886.9  0.01089003     3.830646e-06   3.757341e-04   1.219441e-05  \n",
       "ENSG00000175899.10 0.03361019     3.649012e-14   1.016172e-10   7.905700e-02  \n",
       "                   chr1__20826686 chr1__20826910 ⋯ chr5__63630680\n",
       "ENSG00000064886.9  1.219441e-05   1.221242e-05   ⋯ 1.353992e-06  \n",
       "ENSG00000175899.10 7.905700e-02   6.570018e-03   ⋯ 5.401174e-01  \n",
       "                   chr5__63665861 chr5__63666279 chr5__63666280 chr5__64273018\n",
       "ENSG00000064886.9  1.355630e-08   NA             NA             1.0000000     \n",
       "ENSG00000175899.10 8.509915e-02   NA             NA             0.9089293     \n",
       "                   chr5__64748681 chr5__64854624 chr5__64854714 chr5__64854715\n",
       "ENSG00000064886.9  1.00000000     0.73210933     0.8053735      0.8053735     \n",
       "ENSG00000175899.10 0.03038904     0.01018914     0.4501856      0.4501856     \n",
       "                   chr5__64857063\n",
       "ENSG00000064886.9         NA     \n",
       "ENSG00000175899.10 0.2762313     "
      ]
     },
     "metadata": {},
     "output_type": "display_data"
    }
   ],
   "source": [
    "readRDS(\"delete.rds\")"
   ]
  },
  {
   "cell_type": "code",
   "execution_count": null,
   "metadata": {},
   "outputs": [],
   "source": []
  }
 ],
 "metadata": {
  "kernelspec": {
   "display_name": "R",
   "language": "R",
   "name": "ir"
  },
  "language_info": {
   "codemirror_mode": "r",
   "file_extension": ".r",
   "mimetype": "text/x-r-source",
   "name": "R",
   "pygments_lexer": "r",
   "version": "3.6.1"
  }
 },
 "nbformat": 4,
 "nbformat_minor": 4
}
