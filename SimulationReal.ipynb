{
 "cells": [
  {
   "cell_type": "code",
   "execution_count": 1,
   "metadata": {},
   "outputs": [
    {
     "name": "stderr",
     "output_type": "stream",
     "text": [
      "Classes and Methods for R developed in the\n",
      "Political Science Computational Laboratory\n",
      "Department of Political Science\n",
      "Stanford University\n",
      "Simon Jackman\n",
      "hurdle and zeroinfl functions by Achim Zeileis\n",
      "\n",
      "Loading required package: zoo\n",
      "\n",
      "\n",
      "Attaching package: ‘zoo’\n",
      "\n",
      "\n",
      "The following objects are masked from ‘package:base’:\n",
      "\n",
      "    as.Date, as.Date.numeric\n",
      "\n",
      "\n"
     ]
    }
   ],
   "source": [
    "library(pscl)\n",
    "library(lmtest)\n",
    "library(ggplot2)"
   ]
  },
  {
   "cell_type": "markdown",
   "metadata": {},
   "source": [
    "# Simulation Function"
   ]
  },
  {
   "cell_type": "code",
   "execution_count": 92,
   "metadata": {},
   "outputs": [],
   "source": [
    "SNV.simulation <- function(sample.size, zero.rate, gene.mu, is.snv=TRUE){\n",
    "    if(is.snv){\n",
    "        # Gene\n",
    "        zero.size <- ceiling(sample.size * zero.rate)\n",
    "        nonzero.size <- sample.size - zero.size\n",
    "        gene.zero <- rep(0, zero.size)\n",
    "        gene.nonzero <- rpois(nonzero.size, gene.mu)\n",
    "    \n",
    "        #SNV\n",
    "        snv.zero <- rep(0,zero.size)\n",
    "        error.rate <- 1/gene.nonzero\n",
    "        error <- (runif(nonzero.size) < error.rate)\n",
    "        snv.nonzero <- as.integer(!error)\n",
    "        snv <- c(snv.zero, snv.nonzero)\n",
    "    }\n",
    "    else{\n",
    "        snv <- rep(0,sample.size)\n",
    "    }   \n",
    "    return(sample(snv))\n",
    "}\n",
    "\n",
    "\n",
    "gene.simulation <- function(sample.size,zero.rate, gene.mu){\n",
    "    zero.size <- ceiling(sample.size * zero.rate)\n",
    "    nonzero.size <- sample.size - zero.size\n",
    "    gene.zero <- rep(0, zero.size)\n",
    "    gene.nonzero <- rpois(nonzero.size, gene.mu)\n",
    "    gene <- c(gene.zero,gene.nonzero)\n",
    "    return(sample(gene))\n",
    "}\n",
    "\n",
    "\n",
    "related.pair.simulation <- function(sample.issnv.size, sample.notsnv.size, zero.snv.rate, zero.gene.rate, \n",
    "                                    snv.gene.mu,gene.with.snv.mu,gene.without.snv.mu){\n",
    "    issnv <- SNV.simulation(sample.issnv.size,zero.snv.rate,snv.gene.mu,is.snv=TRUE)\n",
    "    notsnv <- SNV.simulation(sample.notsnv.size,zero.snv.rate,snv.gene.mu,is.snv=FALSE)\n",
    "    snv <- c(issnv,notsnv)\n",
    "    \n",
    "    gene.with.snv <- gene.simulation(sample.issnv.size,zero.gene.rate, gene.with.snv.mu)\n",
    "    gene.without.snv <- gene.simulation(sample.notsnv.size, zero.gene.rate, gene.without.snv.mu)\n",
    "    gene <- c(gene.with.snv,gene.without.snv)\n",
    "    \n",
    "    label <- c(rep(1,sample.issnv.size), rep(0,sample.notsnv.size))\n",
    "    \n",
    "    simulation.data <- data.frame(gene,snv, label)\n",
    "    return(simulation.data)\n",
    "}\n",
    "\n",
    "calculate.pvalue <- function(df){\n",
    "    # here df is a dataframe with 2 cols: gene, snv\n",
    "    zinb.model <- try(zeroinfl(formula = gene ~ snv, data = df, dist = \"negbin\"),silent = TRUE)\n",
    "    m0 <- try(zeroinfl(formula = gene ~ 1|snv , data = df, dist = \"negbin\"),silent = TRUE)\n",
    "    if(class(zinb.model)=='try-error' | class(m0)=='try-error'){\n",
    "        pvalue <- NA\n",
    "    }\n",
    "    else{\n",
    "        pvalue <- waldtest(m0,zinb.model)[2,'Pr(>Chisq)']\n",
    "    }\n",
    "    return(pvalue)\n",
    "}"
   ]
  },
  {
   "cell_type": "code",
   "execution_count": 39,
   "metadata": {},
   "outputs": [],
   "source": [
    "#simulation.data <- related.pair.simulation(10,10,0.3,0.3,10,10,20)\n",
    "#simulation.data"
   ]
  },
  {
   "cell_type": "markdown",
   "metadata": {},
   "source": [
    "# Different Sample Size"
   ]
  },
  {
   "cell_type": "code",
   "execution_count": null,
   "metadata": {},
   "outputs": [],
   "source": []
  },
  {
   "cell_type": "code",
   "execution_count": null,
   "metadata": {},
   "outputs": [],
   "source": []
  },
  {
   "cell_type": "code",
   "execution_count": null,
   "metadata": {},
   "outputs": [],
   "source": []
  },
  {
   "cell_type": "code",
   "execution_count": 100,
   "metadata": {},
   "outputs": [
    {
     "name": "stdout",
     "output_type": "stream",
     "text": [
      "[1] 10\n",
      "[1] 0.5\n",
      "[1] 8.711926e-05\n",
      "[1] \"---------\"\n",
      "[1] 10\n",
      "[1] 0.5\n",
      "[1] 0.003377671\n",
      "[1] \"---------\"\n",
      "[1] 10\n",
      "[1] 0.5\n",
      "[1] 0.0001856629\n",
      "[1] \"---------\"\n",
      "[1] 10\n",
      "[1] 0.5\n",
      "[1] 0.006284519\n",
      "[1] \"---------\"\n",
      "[1] 10\n",
      "[1] 0.5\n",
      "[1] 0.01641659\n",
      "[1] \"---------\"\n"
     ]
    }
   ],
   "source": [
    "set.seed(123)\n",
    "#sample.size.container <- c(10,30,50,100,200,500,1000)\n",
    "sample.size.container <- c(10)\n",
    "zero.rate.container <- c(0.5)\n",
    "times <- 5\n",
    "#zero.rate.container <- seq(0.1,0.7,by=0.1)\n",
    "gene.mu.1 <- 10\n",
    "gene.mu.2 <- 100\n",
    "for (sample.size in sample.size.container){\n",
    "    for (zero.rate in zero.rate.container){\n",
    "        for (t in seq(1:times)){\n",
    "            print(sample.size)\n",
    "            print(zero.rate)\n",
    "            snv.yes <- SNV.simulated(sample.size, zero.rate, gene.mu.1, is.snv=TRUE)\n",
    "            snv.no <- SNV.simulated(sample.size, zero.rate, gene.mu.1, is.snv=FALSE)\n",
    "            gene.yes <- gene.simulated(sample.size, zero.rate, gene.mu.1)\n",
    "            gene.no <- gene.simulated(sample.size, zero.rate, gene.mu.2)\n",
    "            snv <- c(snv.yes,snv.no)\n",
    "            gene <- c(gene.yes,gene.no)\n",
    "            df <- data.frame(gene,snv)\n",
    "            pvalue <- calculate.pvalue(df)\n",
    "            print(pvalue)\n",
    "            print('---------')\n",
    "        }\n",
    "    }\n",
    "    \n",
    "}"
   ]
  },
  {
   "cell_type": "code",
   "execution_count": null,
   "metadata": {},
   "outputs": [],
   "source": []
  }
 ],
 "metadata": {
  "kernelspec": {
   "display_name": "R",
   "language": "R",
   "name": "ir"
  },
  "language_info": {
   "codemirror_mode": "r",
   "file_extension": ".r",
   "mimetype": "text/x-r-source",
   "name": "R",
   "pygments_lexer": "r",
   "version": "3.6.1"
  }
 },
 "nbformat": 4,
 "nbformat_minor": 4
}
