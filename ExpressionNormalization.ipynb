{
 "cells": [
  {
   "cell_type": "code",
   "execution_count": 12,
   "metadata": {},
   "outputs": [],
   "source": [
    "import pandas as pd\n",
    "import numpy as np\n",
    "import os"
   ]
  },
  {
   "cell_type": "code",
   "execution_count": 98,
   "metadata": {},
   "outputs": [],
   "source": [
    "# the folder of gene expression which contains gene expression matrix and parsed data\n",
    "gene_expression_folder = \"/data8t/mtx/scSNV/dataset_v1/GSE75688/data/quantification_stats/gene_expression_matrix\"\n",
    "GENE_MATRIX = \"gene_expression_matrix.csv\"\n",
    "FEATURE_PARSE = \"feature_parse_matrix.csv\"\n",
    "gene_matrix_file = os.path.join(gene_expression_folder, GENE_MATRIX)\n",
    "feature_parse_file = os.path.join(gene_expression_folder, FEATURE_PARSE)"
   ]
  },
  {
   "cell_type": "code",
   "execution_count": 99,
   "metadata": {},
   "outputs": [],
   "source": [
    "# extract gene efficient length from parsed file\n",
    "feature_parse_df = pd.read_csv(feature_parse_file)\n",
    "gene_length_df = feature_parse_df[['Geneid', 'Length']]\n",
    "gene_length_df.set_index('Geneid', inplace=True)\n",
    "# transform read counts to tpm\n",
    "gene_matrix_df = pd.read_csv(gene_matrix_file, index_col='Geneid')\n",
    "cnt_transformed_save_to_local(gene_matrix_df, gene_length_df, gene_expression_folder)"
   ]
  },
  {
   "cell_type": "code",
   "execution_count": 86,
   "metadata": {},
   "outputs": [],
   "source": [
    "def cnt_transformed_save_to_local(gene_df, length_df, outputfolder):\n",
    "    _ = cnt2tpm(gene_df, length_df,outputfolder)\n",
    "    _ = cnt2fpkm(gene_df, length_df,outputfolder)\n",
    "    _ = cnt2cpm(gene_df,outputfolder)"
   ]
  },
  {
   "cell_type": "code",
   "execution_count": 85,
   "metadata": {},
   "outputs": [],
   "source": [
    "def cnt2tpm(gene_df, length_df, outputfolder=None):\n",
    "    merged_df = pd.merge(length_df, gene_df, left_index=True,right_index=True)\n",
    "    merged_df.iloc[:,1:] = merged_df.iloc[:,1:].div(merged_df['Length'], axis=0)\n",
    "    tpm_df = merged_df.iloc[:,1:].div(merged_df.sum()[1:])  * (10**6)\n",
    "    if outputfolder:\n",
    "        outputfile = os.path.join(outputfolder, \"gene_expression_matrix_tpm.csv\")\n",
    "        tpm_df.to_csv(outputfile)\n",
    "    return tpm_df"
   ]
  },
  {
   "cell_type": "code",
   "execution_count": 81,
   "metadata": {},
   "outputs": [],
   "source": [
    "def cnt2fpkm(gene_df, length_df,outputfolder=None):\n",
    "    merged_df = pd.merge(length_df, gene_df, left_index=True,right_index=True)\n",
    "    fpkm_df = merged_df.iloc[:,1:].div(merged_df['Length'], axis=0).div(merged_df.sum()[1:]) * (10**9)\n",
    "    if outputfolder:\n",
    "        outputfile = os.path.join(outputfolder, \"gene_expression_matrix_fpkm.csv\")\n",
    "        fpkm_df.to_csv(outputfile)\n",
    "    return fpkm_df"
   ]
  },
  {
   "cell_type": "code",
   "execution_count": 88,
   "metadata": {},
   "outputs": [],
   "source": [
    "def cnt2cpm(gene_df,outputfolder=None):\n",
    "    cpm_df = gene_df.div(gene_df.sum()) * (10**6)\n",
    "    if outputfolder:\n",
    "        outputfile = os.path.join(outputfolder, \"gene_expression_matrix_cpm.csv\")\n",
    "        cpm_df.to_csv(outputfile)\n",
    "    return cpm_df"
   ]
  },
  {
   "cell_type": "code",
   "execution_count": null,
   "metadata": {},
   "outputs": [],
   "source": []
  }
 ],
 "metadata": {
  "kernelspec": {
   "display_name": "Python 3",
   "language": "python",
   "name": "python3"
  },
  "language_info": {
   "codemirror_mode": {
    "name": "ipython",
    "version": 3
   },
   "file_extension": ".py",
   "mimetype": "text/x-python",
   "name": "python",
   "nbconvert_exporter": "python",
   "pygments_lexer": "ipython3",
   "version": "3.7.3"
  }
 },
 "nbformat": 4,
 "nbformat_minor": 4
}
