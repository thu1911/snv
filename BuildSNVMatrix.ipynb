{
 "cells": [
  {
   "cell_type": "code",
   "execution_count": 17,
   "metadata": {},
   "outputs": [],
   "source": [
    "import os\n",
    "import sys\n",
    "from os import listdir\n",
    "from os.path import isfile, join\n",
    "import pandas as pd\n",
    "import functools \n",
    "from collections import defaultdict"
   ]
  },
  {
   "cell_type": "code",
   "execution_count": 3,
   "metadata": {},
   "outputs": [],
   "source": [
    "input_folder = \"/data8t/mtx/scSNV/dataset_v1/kim/data/snv/cell_level_snv\"\n",
    "suffix = \"_filtered_pass.vcf\""
   ]
  },
  {
   "cell_type": "code",
   "execution_count": 4,
   "metadata": {},
   "outputs": [],
   "source": [
    "onlyfiles = [f for f in listdir(input_folder) if isfile(join(input_folder, f)) if f.endswith(suffix)]"
   ]
  },
  {
   "cell_type": "code",
   "execution_count": 92,
   "metadata": {},
   "outputs": [],
   "source": [
    "min_shared_snv = 10\n",
    "snv_dict = defaultdict(list)\n",
    "sample_list = [] # to store sample names which will be column name of the dataframe\n",
    "for f in onlyfiles:\n",
    "    path_to_file = os.path.join(input_folder,f)\n",
    "    current_file = open(path_to_file, 'r')\n",
    "    sample_name = f.split(\"_\")[0] \n",
    "    sample_list.append(sample_name)\n",
    "    Lines = current_file.readlines()\n",
    "    for line in Lines:\n",
    "        if not line.startswith(\"#\"):\n",
    "            chrom = line.split()[0]\n",
    "            position = line.split()[1]\n",
    "            snv_index = chrom + \"_\" + position\n",
    "            snv_dict[snv_index].append(sample_name)\n",
    "\n",
    "snv_filtered = defaultdict(list)\n",
    "for snv in snv_dict:\n",
    "    if len(snv_dict[snv]) >= min_shared_snv:\n",
    "        snv_filtered[snv] = snv_dict[snv]\n",
    "snv_filtered_name_list = list(snv_filtered.keys())\n",
    "\n",
    "snv_df = pd.DataFrame(0, index=snv_filtered_name_list, columns=sample_list)\n",
    "\n",
    "for snv in snv_filtered:\n",
    "    for sample in snv_filtered[snv]:\n",
    "        snv_df.loc[snv, sample] = 1\n",
    "snv_df.index.name = \"SNVid\""
   ]
  },
  {
   "cell_type": "code",
   "execution_count": 115,
   "metadata": {},
   "outputs": [],
   "source": [
    "path_to_saved_snv_df = join(\"/data8t/mtx/scSNV/dataset_v1/kim/data/snv\", \"snv_matrix_10.csv\")\n",
    "snv_df.to_csv(path_to_saved_snv_df)"
   ]
  },
  {
   "cell_type": "code",
   "execution_count": 118,
   "metadata": {},
   "outputs": [
    {
     "data": {
      "text/plain": [
       "SRR2431459    int64\n",
       "SRR2431426    int64\n",
       "SRR2431405    int64\n",
       "SRR2431396    int64\n",
       "SRR2431437    int64\n",
       "              ...  \n",
       "SRR2431450    int64\n",
       "SRR2431364    int64\n",
       "SRR2431449    int64\n",
       "SRR2431397    int64\n",
       "SRR2431440    int64\n",
       "Length: 121, dtype: object"
      ]
     },
     "execution_count": 118,
     "metadata": {},
     "output_type": "execute_result"
    }
   ],
   "source": [
    "pd.read_csv(path_to_saved_snv_df, index_col='SNVid').dtypes"
   ]
  },
  {
   "cell_type": "code",
   "execution_count": null,
   "metadata": {},
   "outputs": [],
   "source": []
  }
 ],
 "metadata": {
  "kernelspec": {
   "display_name": "Python 3",
   "language": "python",
   "name": "python3"
  },
  "language_info": {
   "codemirror_mode": {
    "name": "ipython",
    "version": 3
   },
   "file_extension": ".py",
   "mimetype": "text/x-python",
   "name": "python",
   "nbconvert_exporter": "python",
   "pygments_lexer": "ipython3",
   "version": "3.7.3"
  }
 },
 "nbformat": 4,
 "nbformat_minor": 4
}
